{
  "cells": [
    {
      "cell_type": "markdown",
      "metadata": {
        "id": "view-in-github",
        "colab_type": "text"
      },
      "source": [
        "<a href=\"https://colab.research.google.com/github/jmontano1987/pdg/blob/main/Proyecto_de_Grado_version_2.ipynb\" target=\"_parent\"><img src=\"https://colab.research.google.com/assets/colab-badge.svg\" alt=\"Open In Colab\"/></a>"
      ]
    },
    {
      "cell_type": "markdown",
      "metadata": {
        "id": "SgW_5sEwOSQu"
      },
      "source": [
        "**Proyecto de Grado**\n",
        "\n",
        "**Título:** Modelo para la detección de Noticias Falsas en tweets con formato de texto en el contexto político colombiano para las elecciones del año 2022.\n",
        "\n",
        "**Integrantes:**\n",
        "* Jesus Eduardo Flores Q.\n",
        "* Juan Gabriel Montaño M."
      ]
    },
    {
      "cell_type": "markdown",
      "metadata": {
        "id": "Ehtb1s49ywx4"
      },
      "source": [
        "#**Instalaciones**"
      ]
    },
    {
      "cell_type": "code",
      "execution_count": null,
      "metadata": {
        "colab": {
          "base_uri": "https://localhost:8080/"
        },
        "id": "IddWV35My2Lh",
        "outputId": "c2f44f1a-ba83-4a03-d89a-b12c8a367ae8"
      },
      "outputs": [
        {
          "output_type": "stream",
          "name": "stdout",
          "text": [
            "Requirement already satisfied: tweepy in /usr/local/lib/python3.7/dist-packages (3.10.0)\n",
            "Requirement already satisfied: requests-oauthlib>=0.7.0 in /usr/local/lib/python3.7/dist-packages (from tweepy) (1.3.1)\n",
            "Requirement already satisfied: requests[socks]>=2.11.1 in /usr/local/lib/python3.7/dist-packages (from tweepy) (2.23.0)\n",
            "Requirement already satisfied: six>=1.10.0 in /usr/local/lib/python3.7/dist-packages (from tweepy) (1.15.0)\n",
            "Requirement already satisfied: oauthlib>=3.0.0 in /usr/local/lib/python3.7/dist-packages (from requests-oauthlib>=0.7.0->tweepy) (3.2.0)\n",
            "Requirement already satisfied: idna<3,>=2.5 in /usr/local/lib/python3.7/dist-packages (from requests[socks]>=2.11.1->tweepy) (2.10)\n",
            "Requirement already satisfied: chardet<4,>=3.0.2 in /usr/local/lib/python3.7/dist-packages (from requests[socks]>=2.11.1->tweepy) (3.0.4)\n",
            "Requirement already satisfied: urllib3!=1.25.0,!=1.25.1,<1.26,>=1.21.1 in /usr/local/lib/python3.7/dist-packages (from requests[socks]>=2.11.1->tweepy) (1.24.3)\n",
            "Requirement already satisfied: certifi>=2017.4.17 in /usr/local/lib/python3.7/dist-packages (from requests[socks]>=2.11.1->tweepy) (2021.10.8)\n",
            "Requirement already satisfied: PySocks!=1.5.7,>=1.5.6 in /usr/local/lib/python3.7/dist-packages (from requests[socks]>=2.11.1->tweepy) (1.7.1)\n",
            "Requirement already satisfied: tqdm in /usr/local/lib/python3.7/dist-packages (4.63.0)\n",
            "Requirement already satisfied: spacy in /usr/local/lib/python3.7/dist-packages (2.2.4)\n",
            "Requirement already satisfied: srsly<1.1.0,>=1.0.2 in /usr/local/lib/python3.7/dist-packages (from spacy) (1.0.5)\n",
            "Requirement already satisfied: numpy>=1.15.0 in /usr/local/lib/python3.7/dist-packages (from spacy) (1.21.5)\n",
            "Requirement already satisfied: cymem<2.1.0,>=2.0.2 in /usr/local/lib/python3.7/dist-packages (from spacy) (2.0.6)\n",
            "Requirement already satisfied: wasabi<1.1.0,>=0.4.0 in /usr/local/lib/python3.7/dist-packages (from spacy) (0.9.0)\n",
            "Requirement already satisfied: plac<1.2.0,>=0.9.6 in /usr/local/lib/python3.7/dist-packages (from spacy) (1.1.3)\n",
            "Requirement already satisfied: catalogue<1.1.0,>=0.0.7 in /usr/local/lib/python3.7/dist-packages (from spacy) (1.0.0)\n",
            "Requirement already satisfied: requests<3.0.0,>=2.13.0 in /usr/local/lib/python3.7/dist-packages (from spacy) (2.23.0)\n",
            "Requirement already satisfied: thinc==7.4.0 in /usr/local/lib/python3.7/dist-packages (from spacy) (7.4.0)\n",
            "Requirement already satisfied: blis<0.5.0,>=0.4.0 in /usr/local/lib/python3.7/dist-packages (from spacy) (0.4.1)\n",
            "Requirement already satisfied: tqdm<5.0.0,>=4.38.0 in /usr/local/lib/python3.7/dist-packages (from spacy) (4.63.0)\n",
            "Requirement already satisfied: murmurhash<1.1.0,>=0.28.0 in /usr/local/lib/python3.7/dist-packages (from spacy) (1.0.6)\n",
            "Requirement already satisfied: preshed<3.1.0,>=3.0.2 in /usr/local/lib/python3.7/dist-packages (from spacy) (3.0.6)\n",
            "Requirement already satisfied: setuptools in /usr/local/lib/python3.7/dist-packages (from spacy) (57.4.0)\n",
            "Requirement already satisfied: importlib-metadata>=0.20 in /usr/local/lib/python3.7/dist-packages (from catalogue<1.1.0,>=0.0.7->spacy) (4.11.3)\n",
            "Requirement already satisfied: zipp>=0.5 in /usr/local/lib/python3.7/dist-packages (from importlib-metadata>=0.20->catalogue<1.1.0,>=0.0.7->spacy) (3.7.0)\n",
            "Requirement already satisfied: typing-extensions>=3.6.4 in /usr/local/lib/python3.7/dist-packages (from importlib-metadata>=0.20->catalogue<1.1.0,>=0.0.7->spacy) (3.10.0.2)\n",
            "Requirement already satisfied: idna<3,>=2.5 in /usr/local/lib/python3.7/dist-packages (from requests<3.0.0,>=2.13.0->spacy) (2.10)\n",
            "Requirement already satisfied: chardet<4,>=3.0.2 in /usr/local/lib/python3.7/dist-packages (from requests<3.0.0,>=2.13.0->spacy) (3.0.4)\n",
            "Requirement already satisfied: urllib3!=1.25.0,!=1.25.1,<1.26,>=1.21.1 in /usr/local/lib/python3.7/dist-packages (from requests<3.0.0,>=2.13.0->spacy) (1.24.3)\n",
            "Requirement already satisfied: certifi>=2017.4.17 in /usr/local/lib/python3.7/dist-packages (from requests<3.0.0,>=2.13.0->spacy) (2021.10.8)\n",
            "Requirement already satisfied: matplotlib in /usr/local/lib/python3.7/dist-packages (3.2.2)\n",
            "Requirement already satisfied: python-dateutil>=2.1 in /usr/local/lib/python3.7/dist-packages (from matplotlib) (2.8.2)\n",
            "Requirement already satisfied: numpy>=1.11 in /usr/local/lib/python3.7/dist-packages (from matplotlib) (1.21.5)\n",
            "Requirement already satisfied: cycler>=0.10 in /usr/local/lib/python3.7/dist-packages (from matplotlib) (0.11.0)\n",
            "Requirement already satisfied: kiwisolver>=1.0.1 in /usr/local/lib/python3.7/dist-packages (from matplotlib) (1.4.0)\n",
            "Requirement already satisfied: pyparsing!=2.0.4,!=2.1.2,!=2.1.6,>=2.0.1 in /usr/local/lib/python3.7/dist-packages (from matplotlib) (3.0.7)\n",
            "Requirement already satisfied: typing-extensions in /usr/local/lib/python3.7/dist-packages (from kiwisolver>=1.0.1->matplotlib) (3.10.0.2)\n",
            "Requirement already satisfied: six>=1.5 in /usr/local/lib/python3.7/dist-packages (from python-dateutil>=2.1->matplotlib) (1.15.0)\n",
            "Requirement already satisfied: wordcloud in /usr/local/lib/python3.7/dist-packages (1.5.0)\n",
            "Requirement already satisfied: pillow in /usr/local/lib/python3.7/dist-packages (from wordcloud) (7.1.2)\n",
            "Requirement already satisfied: numpy>=1.6.1 in /usr/local/lib/python3.7/dist-packages (from wordcloud) (1.21.5)\n",
            "Collecting unidecode\n",
            "  Downloading Unidecode-1.3.4-py3-none-any.whl (235 kB)\n",
            "\u001b[K     |████████████████████████████████| 235 kB 5.5 MB/s \n",
            "\u001b[?25hInstalling collected packages: unidecode\n",
            "Successfully installed unidecode-1.3.4\n",
            "Collecting scikit-plot\n",
            "  Downloading scikit_plot-0.3.7-py3-none-any.whl (33 kB)\n",
            "Requirement already satisfied: matplotlib>=1.4.0 in /usr/local/lib/python3.7/dist-packages (from scikit-plot) (3.2.2)\n",
            "Requirement already satisfied: joblib>=0.10 in /usr/local/lib/python3.7/dist-packages (from scikit-plot) (1.1.0)\n",
            "Requirement already satisfied: scipy>=0.9 in /usr/local/lib/python3.7/dist-packages (from scikit-plot) (1.4.1)\n",
            "Requirement already satisfied: scikit-learn>=0.18 in /usr/local/lib/python3.7/dist-packages (from scikit-plot) (1.0.2)\n",
            "Requirement already satisfied: python-dateutil>=2.1 in /usr/local/lib/python3.7/dist-packages (from matplotlib>=1.4.0->scikit-plot) (2.8.2)\n",
            "Requirement already satisfied: kiwisolver>=1.0.1 in /usr/local/lib/python3.7/dist-packages (from matplotlib>=1.4.0->scikit-plot) (1.4.0)\n",
            "Requirement already satisfied: cycler>=0.10 in /usr/local/lib/python3.7/dist-packages (from matplotlib>=1.4.0->scikit-plot) (0.11.0)\n",
            "Requirement already satisfied: pyparsing!=2.0.4,!=2.1.2,!=2.1.6,>=2.0.1 in /usr/local/lib/python3.7/dist-packages (from matplotlib>=1.4.0->scikit-plot) (3.0.7)\n",
            "Requirement already satisfied: numpy>=1.11 in /usr/local/lib/python3.7/dist-packages (from matplotlib>=1.4.0->scikit-plot) (1.21.5)\n",
            "Requirement already satisfied: typing-extensions in /usr/local/lib/python3.7/dist-packages (from kiwisolver>=1.0.1->matplotlib>=1.4.0->scikit-plot) (3.10.0.2)\n",
            "Requirement already satisfied: six>=1.5 in /usr/local/lib/python3.7/dist-packages (from python-dateutil>=2.1->matplotlib>=1.4.0->scikit-plot) (1.15.0)\n",
            "Requirement already satisfied: threadpoolctl>=2.0.0 in /usr/local/lib/python3.7/dist-packages (from scikit-learn>=0.18->scikit-plot) (3.1.0)\n",
            "Installing collected packages: scikit-plot\n",
            "Successfully installed scikit-plot-0.3.7\n",
            "Collecting bayesian-optimization\n",
            "  Downloading bayesian-optimization-1.2.0.tar.gz (14 kB)\n",
            "Requirement already satisfied: numpy>=1.9.0 in /usr/local/lib/python3.7/dist-packages (from bayesian-optimization) (1.21.5)\n",
            "Requirement already satisfied: scipy>=0.14.0 in /usr/local/lib/python3.7/dist-packages (from bayesian-optimization) (1.4.1)\n",
            "Requirement already satisfied: scikit-learn>=0.18.0 in /usr/local/lib/python3.7/dist-packages (from bayesian-optimization) (1.0.2)\n",
            "Requirement already satisfied: threadpoolctl>=2.0.0 in /usr/local/lib/python3.7/dist-packages (from scikit-learn>=0.18.0->bayesian-optimization) (3.1.0)\n",
            "Requirement already satisfied: joblib>=0.11 in /usr/local/lib/python3.7/dist-packages (from scikit-learn>=0.18.0->bayesian-optimization) (1.1.0)\n",
            "Building wheels for collected packages: bayesian-optimization\n",
            "  Building wheel for bayesian-optimization (setup.py) ... \u001b[?25l\u001b[?25hdone\n",
            "  Created wheel for bayesian-optimization: filename=bayesian_optimization-1.2.0-py3-none-any.whl size=11685 sha256=6d80eafbc5c9a85539a2aed49e25d1446653d912015ac2cd5768bfe7e7556aa1\n",
            "  Stored in directory: /root/.cache/pip/wheels/fd/9b/71/f127d694e02eb40bcf18c7ae9613b88a6be4470f57a8528c5b\n",
            "Successfully built bayesian-optimization\n",
            "Installing collected packages: bayesian-optimization\n",
            "Successfully installed bayesian-optimization-1.2.0\n",
            "Collecting https://github.com/explosion/spacy-models/releases/download/en_core_web_sm-2.2.0/en_core_web_sm-2.2.0.tar.gz\n",
            "  Downloading https://github.com/explosion/spacy-models/releases/download/en_core_web_sm-2.2.0/en_core_web_sm-2.2.0.tar.gz (12.0 MB)\n",
            "\u001b[K     |████████████████████████████████| 12.0 MB 5.5 MB/s \n",
            "\u001b[?25hRequirement already satisfied: spacy>=2.2.0 in /usr/local/lib/python3.7/dist-packages (from en-core-web-sm==2.2.0) (2.2.4)\n",
            "Requirement already satisfied: murmurhash<1.1.0,>=0.28.0 in /usr/local/lib/python3.7/dist-packages (from spacy>=2.2.0->en-core-web-sm==2.2.0) (1.0.6)\n",
            "Requirement already satisfied: srsly<1.1.0,>=1.0.2 in /usr/local/lib/python3.7/dist-packages (from spacy>=2.2.0->en-core-web-sm==2.2.0) (1.0.5)\n",
            "Requirement already satisfied: requests<3.0.0,>=2.13.0 in /usr/local/lib/python3.7/dist-packages (from spacy>=2.2.0->en-core-web-sm==2.2.0) (2.23.0)\n",
            "Requirement already satisfied: thinc==7.4.0 in /usr/local/lib/python3.7/dist-packages (from spacy>=2.2.0->en-core-web-sm==2.2.0) (7.4.0)\n",
            "Requirement already satisfied: catalogue<1.1.0,>=0.0.7 in /usr/local/lib/python3.7/dist-packages (from spacy>=2.2.0->en-core-web-sm==2.2.0) (1.0.0)\n",
            "Requirement already satisfied: preshed<3.1.0,>=3.0.2 in /usr/local/lib/python3.7/dist-packages (from spacy>=2.2.0->en-core-web-sm==2.2.0) (3.0.6)\n",
            "Requirement already satisfied: numpy>=1.15.0 in /usr/local/lib/python3.7/dist-packages (from spacy>=2.2.0->en-core-web-sm==2.2.0) (1.21.5)\n",
            "Requirement already satisfied: wasabi<1.1.0,>=0.4.0 in /usr/local/lib/python3.7/dist-packages (from spacy>=2.2.0->en-core-web-sm==2.2.0) (0.9.0)\n",
            "Requirement already satisfied: cymem<2.1.0,>=2.0.2 in /usr/local/lib/python3.7/dist-packages (from spacy>=2.2.0->en-core-web-sm==2.2.0) (2.0.6)\n",
            "Requirement already satisfied: tqdm<5.0.0,>=4.38.0 in /usr/local/lib/python3.7/dist-packages (from spacy>=2.2.0->en-core-web-sm==2.2.0) (4.63.0)\n",
            "Requirement already satisfied: plac<1.2.0,>=0.9.6 in /usr/local/lib/python3.7/dist-packages (from spacy>=2.2.0->en-core-web-sm==2.2.0) (1.1.3)\n",
            "Requirement already satisfied: setuptools in /usr/local/lib/python3.7/dist-packages (from spacy>=2.2.0->en-core-web-sm==2.2.0) (57.4.0)\n",
            "Requirement already satisfied: blis<0.5.0,>=0.4.0 in /usr/local/lib/python3.7/dist-packages (from spacy>=2.2.0->en-core-web-sm==2.2.0) (0.4.1)\n",
            "Requirement already satisfied: importlib-metadata>=0.20 in /usr/local/lib/python3.7/dist-packages (from catalogue<1.1.0,>=0.0.7->spacy>=2.2.0->en-core-web-sm==2.2.0) (4.11.3)\n",
            "Requirement already satisfied: typing-extensions>=3.6.4 in /usr/local/lib/python3.7/dist-packages (from importlib-metadata>=0.20->catalogue<1.1.0,>=0.0.7->spacy>=2.2.0->en-core-web-sm==2.2.0) (3.10.0.2)\n",
            "Requirement already satisfied: zipp>=0.5 in /usr/local/lib/python3.7/dist-packages (from importlib-metadata>=0.20->catalogue<1.1.0,>=0.0.7->spacy>=2.2.0->en-core-web-sm==2.2.0) (3.7.0)\n",
            "Requirement already satisfied: chardet<4,>=3.0.2 in /usr/local/lib/python3.7/dist-packages (from requests<3.0.0,>=2.13.0->spacy>=2.2.0->en-core-web-sm==2.2.0) (3.0.4)\n",
            "Requirement already satisfied: urllib3!=1.25.0,!=1.25.1,<1.26,>=1.21.1 in /usr/local/lib/python3.7/dist-packages (from requests<3.0.0,>=2.13.0->spacy>=2.2.0->en-core-web-sm==2.2.0) (1.24.3)\n",
            "Requirement already satisfied: certifi>=2017.4.17 in /usr/local/lib/python3.7/dist-packages (from requests<3.0.0,>=2.13.0->spacy>=2.2.0->en-core-web-sm==2.2.0) (2021.10.8)\n",
            "Requirement already satisfied: idna<3,>=2.5 in /usr/local/lib/python3.7/dist-packages (from requests<3.0.0,>=2.13.0->spacy>=2.2.0->en-core-web-sm==2.2.0) (2.10)\n",
            "Building wheels for collected packages: en-core-web-sm\n",
            "  Building wheel for en-core-web-sm (setup.py) ... \u001b[?25l\u001b[?25hdone\n",
            "  Created wheel for en-core-web-sm: filename=en_core_web_sm-2.2.0-py3-none-any.whl size=12019121 sha256=947225def8f86db2ee95dc6d2717d300a34c966d55874ad53f562792f34eb564\n",
            "  Stored in directory: /root/.cache/pip/wheels/64/69/41/6f820cf1d7488a0381a2059f66ec9f8f23116f7c67d18f3d8d\n",
            "Successfully built en-core-web-sm\n",
            "Installing collected packages: en-core-web-sm\n",
            "  Attempting uninstall: en-core-web-sm\n",
            "    Found existing installation: en-core-web-sm 2.2.5\n",
            "    Uninstalling en-core-web-sm-2.2.5:\n",
            "      Successfully uninstalled en-core-web-sm-2.2.5\n",
            "Successfully installed en-core-web-sm-2.2.0\n",
            "Collecting stop-words\n",
            "  Downloading stop-words-2018.7.23.tar.gz (31 kB)\n",
            "Building wheels for collected packages: stop-words\n",
            "  Building wheel for stop-words (setup.py) ... \u001b[?25l\u001b[?25hdone\n",
            "  Created wheel for stop-words: filename=stop_words-2018.7.23-py3-none-any.whl size=32911 sha256=ff2178a0e976662f4f11d9e68629ee2e8b7a5342e983fc65252c42c33755b37b\n",
            "  Stored in directory: /root/.cache/pip/wheels/fb/86/b2/277b10b1ce9f73ce15059bf6975d4547cc4ec3feeb651978e9\n",
            "Successfully built stop-words\n",
            "Installing collected packages: stop-words\n",
            "Successfully installed stop-words-2018.7.23\n",
            "\u001b[K     |████████████████████████████████| 4.9 MB 5.2 MB/s \n",
            "\u001b[K     |████████████████████████████████| 462 kB 40.8 MB/s \n",
            "\u001b[K     |████████████████████████████████| 1.8 MB 5.5 MB/s \n",
            "\u001b[K     |████████████████████████████████| 352 kB 1.3 MB/s \n",
            "\u001b[K     |████████████████████████████████| 1.1 MB 1.2 MB/s \n",
            "\u001b[K     |████████████████████████████████| 90 kB 8.5 MB/s \n",
            "\u001b[K     |████████████████████████████████| 43 kB 1.9 MB/s \n",
            "\u001b[K     |████████████████████████████████| 237 kB 31.5 MB/s \n",
            "\u001b[K     |████████████████████████████████| 1.2 MB 34.7 MB/s \n",
            "\u001b[K     |████████████████████████████████| 99 kB 8.2 MB/s \n",
            "\u001b[K     |████████████████████████████████| 596 kB 41.7 MB/s \n",
            "\u001b[K     |████████████████████████████████| 47.8 MB 46 kB/s \n",
            "\u001b[?25h  Building wheel for py-cpuinfo (setup.py) ... \u001b[?25l\u001b[?25hdone\n",
            "  Building wheel for seqeval (setup.py) ... \u001b[?25l\u001b[?25hdone\n"
          ]
        }
      ],
      "source": [
        "!pip install tweepy\n",
        "!pip3 install tqdm\n",
        "!pip install spacy\n",
        "!pip install matplotlib\n",
        "!pip install wordcloud\n",
        "!pip install unidecode\n",
        "!pip install scikit-plot\n",
        "!pip install bayesian-optimization\n",
        "!pip3 install https://github.com/explosion/spacy-models/releases/download/en_core_web_sm-2.2.0/en_core_web_sm-2.2.0.tar.gz\n",
        "!pip install stop-words\n",
        "\n",
        "# paquetes necesarios para trabajar con BERT\n",
        "!pip install -q -U \"tensorflow-text==2.8.*\"\n",
        "!pip install -q tf-models-official==2.7.0"
      ]
    },
    {
      "cell_type": "markdown",
      "metadata": {
        "id": "PIvP_tmUtsAI"
      },
      "source": [
        "#**Librerias**"
      ]
    },
    {
      "cell_type": "code",
      "execution_count": null,
      "metadata": {
        "id": "NYDSzRqUp5Kd",
        "colab": {
          "base_uri": "https://localhost:8080/"
        },
        "outputId": "47cd9a07-66af-43a9-f1b9-64b36ec15fb0"
      },
      "outputs": [
        {
          "output_type": "stream",
          "name": "stdout",
          "text": [
            "[nltk_data] Downloading package stopwords to /root/nltk_data...\n",
            "[nltk_data]   Unzipping corpora/stopwords.zip.\n",
            "[nltk_data] Downloading package punkt to /root/nltk_data...\n",
            "[nltk_data]   Unzipping tokenizers/punkt.zip.\n"
          ]
        }
      ],
      "source": [
        "import io\n",
        "import pandas as pd\n",
        "import re\n",
        "import nltk\n",
        "from nltk.corpus import stopwords\n",
        "from nltk.stem import WordNetLemmatizer\n",
        "from sklearn.feature_extraction.text import TfidfVectorizer\n",
        "from sklearn.model_selection import train_test_split\n",
        "from sklearn.feature_selection import chi2\n",
        "import numpy as np\n",
        "import string\n",
        "import tweepy\n",
        "from tqdm.notebook import tqdm as tqdm_notebook\n",
        "from dateutil import tz\n",
        "from datetime import datetime \n",
        "import matplotlib.pyplot as plt\n",
        "from wordcloud import WordCloud\n",
        "import unidecode\n",
        "from nltk.tokenize import word_tokenize\n",
        "nltk.download('stopwords')\n",
        "nltk.download('punkt')\n",
        "from pprint import pprint\n",
        "from sklearn.feature_extraction.text import TfidfVectorizer\n",
        "from sklearn.ensemble import RandomForestClassifier\n",
        "from sklearn.model_selection import RandomizedSearchCV\n",
        "from sklearn.model_selection import GridSearchCV\n",
        "from sklearn.metrics import classification_report, confusion_matrix, accuracy_score\n",
        "from sklearn.model_selection import ShuffleSplit\n",
        "import matplotlib.pyplot as plt\n",
        "import seaborn as sns\n",
        "import spacy\n",
        "from pprint import pprint\n",
        "from sklearn.feature_extraction.text import TfidfVectorizer\n",
        "from sklearn.ensemble import RandomForestClassifier\n",
        "from sklearn.model_selection import RandomizedSearchCV\n",
        "from sklearn.model_selection import GridSearchCV\n",
        "from sklearn.metrics import classification_report, confusion_matrix, accuracy_score\n",
        "from sklearn.model_selection import ShuffleSplit\n",
        "import matplotlib.pyplot as plt\n",
        "import requests\n",
        "from sklearn.naive_bayes import MultinomialNB\n",
        "from sklearn.decomposition import LatentDirichletAllocation\n",
        "from sklearn.feature_extraction.text import CountVectorizer\n",
        "import random\n",
        "from sklearn import model_selection, naive_bayes, svm\n",
        "from sklearn.metrics import accuracy_score\n",
        "from sklearn.svm import SVC\n",
        "import scikitplot as skplt\n",
        "from sklearn.linear_model import LogisticRegression\n",
        "from pydrive.auth import GoogleAuth \n",
        "from pydrive.drive import GoogleDrive \n",
        "from google.colab import auth \n",
        "from oauth2client.client import GoogleCredentials\n",
        "from google.colab import (\n",
        "    drive,\n",
        "    files\n",
        ")\n",
        "from tqdm import tqdm\n",
        "from bayes_opt import BayesianOptimization\n",
        "import xgboost as xgb\n",
        "from sklearn.metrics import mean_squared_error\n",
        "from stop_words import get_stop_words\n",
        "import pickle\n",
        "import xgboost as xgb\n",
        "from sklearn.linear_model import PassiveAggressiveClassifier\n",
        "from keras.models import Sequential\n",
        "from keras.layers import Dense\n",
        "import tensorflow as tf\n",
        "\n",
        "#### \n",
        "import tensorflow_hub as hub\n",
        "import tensorflow_text as text\n",
        "from official.nlp import optimization  # to create AdamW optimizer\n",
        "\n",
        "## libreria para descargar un .zip desde una url de descarga\n",
        "from urllib.request import urlopen\n",
        "from io import BytesIO\n",
        "from zipfile import ZipFile\n",
        "import os\n"
      ]
    },
    {
      "cell_type": "markdown",
      "metadata": {
        "id": "eUdwZl2V8fz9"
      },
      "source": [
        "#**Funciones**"
      ]
    },
    {
      "cell_type": "code",
      "source": [
        "# al llamar la función y pasarle una URL, descarga el arhcivo que debe estar en formato .zip y lo descomprime en la ruta content de colab\n",
        "def download_unzip(url, extract_to='.'):\n",
        "    http_response = urlopen(url)\n",
        "    zipfile = ZipFile(BytesIO(http_response.read()))\n",
        "    zipfile.extractall(path=extract_to)"
      ],
      "metadata": {
        "id": "erGjGV6xzz99"
      },
      "execution_count": null,
      "outputs": []
    },
    {
      "cell_type": "code",
      "execution_count": null,
      "metadata": {
        "id": "wjVbvuifDk_q"
      },
      "outputs": [],
      "source": [
        "#Funcion que convierte el formato de la fecha del tweet en hora GMT -5 Colombia\n",
        "def convert_date(str_date):\n",
        "  str_format_date = '%Y-%m-%d %H:%M:%S' \n",
        "  from_zone = tz.gettz('UTC')\n",
        "  to_zone = tz.gettz('America/Bogota')\n",
        "  date_convert = datetime.strptime(str(str_date), str_format_date)\n",
        "  date_convert = date_convert.replace(tzinfo=from_zone)\n",
        "  date_convert = date_convert.astimezone(to_zone)\n",
        "  date_convert = datetime.strftime(date_convert,'%d/%m/%Y %H:%M:%S')\n",
        "  return date_convert"
      ]
    },
    {
      "cell_type": "code",
      "execution_count": null,
      "metadata": {
        "id": "tZjTpo0izTRQ"
      },
      "outputs": [],
      "source": [
        "#Funcion para obtener los tweets de un usuario especifio de twitter - Se quitan los RT\n",
        "def get_tweets(api,username,items,rts):\n",
        "  tweets={}\n",
        "  for tweet in tqdm_notebook(tweepy.Cursor(api.user_timeline, screen_name = username, tweet_mode='extended',include_rts=rts).items(items)):\n",
        "      tweets[tweet.id]= {\n",
        "          'full_text': tweet.full_text,\n",
        "          'created_at': convert_date(tweet.created_at),\n",
        "          'author_name': tweet.user.name,\n",
        "          'author_handler': str(tweet.user.screen_name),\n",
        "          'user_description': tweet.user.description,\n",
        "          'user_location': tweet.user.location,\n",
        "          'user_followers_count': tweet.user.followers_count,\n",
        "          'user_created_at': convert_date(tweet.user.created_at),\n",
        "          'user_following_count': tweet.user.friends_count,\n",
        "          'user_verified': tweet.user.verified,\n",
        "          'lang': tweet.lang,\n",
        "          'tweet_hashtags': tweet.entities['hashtags'],\n",
        "          'mention_names': [\"@\" + d['screen_name'] for d in tweet.entities['user_mentions'] if 'screen_name' in d],\n",
        "          'mention_ids': [d['id'] for d in tweet.entities['user_mentions'] if 'id' in d],\n",
        "          'n_retweets': tweet.retweet_count,\n",
        "          'n_favorites': tweet.favorite_count,\n",
        "          'is_retweet': hasattr(tweet, 'retweeted_status')\n",
        "      }\n",
        "  df_tweets = pd.DataFrame.from_dict(tweets, orient='index')\n",
        "  df_tweets['id'] = df_tweets.index\n",
        "  return df_tweets"
      ]
    },
    {
      "cell_type": "code",
      "execution_count": null,
      "metadata": {
        "id": "K2wxr_-otZSE"
      },
      "outputs": [],
      "source": [
        "def remove_newlines_tabs(text):\n",
        " # Remover saltos de linea\n",
        "  formatted_text = text.replace('\\\\n', ' ').replace('\\n', ' ').replace('\\t',' ').replace('\\\\', ' ')\n",
        "  return formatted_text"
      ]
    },
    {
      "cell_type": "code",
      "execution_count": null,
      "metadata": {
        "id": "Cgm-maevttQW"
      },
      "outputs": [],
      "source": [
        "def remove_whitespace(text):\n",
        "  # Remover espacios en blanco\n",
        "    pattern = re.compile(r'\\s+') \n",
        "    without_whitespace = re.sub(pattern, ' ', text)\n",
        "    text = without_whitespace.replace(')', ') ')\n",
        "    text=text.replace(\"  \", \" \").replace(\"   \", \" \").replace(\"    \", \" \").lstrip()\n",
        "    text=text.replace(\"  \", \" \").replace(\"   \", \" \").replace(\"    \", \" \").rstrip()\n",
        "    text=text.replace(\"   \", \"\")\n",
        "    return text    "
      ]
    },
    {
      "cell_type": "code",
      "execution_count": null,
      "metadata": {
        "id": "t1d-XzziuYKI"
      },
      "outputs": [],
      "source": [
        "def accented_characters_removal(text):\n",
        "  # Remover tildes\n",
        "    text = unidecode.unidecode(text)\n",
        "    return text"
      ]
    },
    {
      "cell_type": "code",
      "execution_count": null,
      "metadata": {
        "id": "QcVGV-6-0oR0"
      },
      "outputs": [],
      "source": [
        "def remove_special_characters(text):\n",
        "    # Remover caracteres especiales\n",
        "    return text.translate(str.maketrans('','',string.punctuation))"
      ]
    },
    {
      "cell_type": "code",
      "execution_count": null,
      "metadata": {
        "id": "PtLwXy4q8OlF"
      },
      "outputs": [],
      "source": [
        "def lower_text(text):\n",
        "    # Convertir mayusculas a minusculas\n",
        "    text = text.lower()\n",
        "    return text"
      ]
    },
    {
      "cell_type": "code",
      "execution_count": null,
      "metadata": {
        "id": "LqGRHsolBpDl"
      },
      "outputs": [],
      "source": [
        "stoplist = list(get_stop_words('spanish'))  # 308 words\n",
        "nltk_words = list(stopwords.words('spanish')) #\n",
        "stoplist.extend(nltk_words)\n",
        "def remove_stopwords(text):\n",
        "    # Remover stop words\n",
        "    nostopwords = [word for word in word_tokenize(text) if word.lower() not in stoplist ]\n",
        "    # Convertir lista en tipo String\n",
        "    words_string = ' '.join(nostopwords)   \n",
        "    return words_string"
      ]
    },
    {
      "cell_type": "code",
      "execution_count": null,
      "metadata": {
        "id": "MYzDDQ9XKRQv"
      },
      "outputs": [],
      "source": [
        "nlp = spacy.load('en_core_web_sm')\n",
        "def lemmatizer(text):  \n",
        "  doc = nlp(text)\n",
        "  return ' '.join([word.lemma_ for word in doc])"
      ]
    },
    {
      "cell_type": "code",
      "execution_count": null,
      "metadata": {
        "id": "d19ocY6vOOGK"
      },
      "outputs": [],
      "source": [
        "def remove_links(text): \n",
        "    # Remover urls \n",
        "    text=re.sub(r\"https?:\\/\\/t.co\\/[A-Za-z0-9]+\",'',text)\n",
        "    text=re.sub(r'https?://\\S+|www\\.\\S+','',text)\n",
        "    text=re.sub(r'opr-littps://S+','',text)\n",
        "    return text"
      ]
    },
    {
      "cell_type": "code",
      "execution_count": null,
      "metadata": {
        "id": "c6PNA7NztUDn"
      },
      "outputs": [],
      "source": [
        "def remove_numbers(text):\n",
        "    # Remover numeros\n",
        "    formatted_text=''.join((x for x in text if not x.isdigit()))\n",
        "    formatted_text= re.sub(r\"NUMBER\", ' ', formatted_text)\n",
        "    formatted_text= re.sub(r\"number\", ' ', formatted_text)\n",
        "    return formatted_text"
      ]
    },
    {
      "cell_type": "code",
      "execution_count": null,
      "metadata": {
        "id": "j3wR1QkmvSBR"
      },
      "outputs": [],
      "source": [
        "def text_preprocessing(text, accented_chars=True, newlines_tabs=True, extra_whitespace=True,lowercase=True,characters_specials=True,stop_words=True,lemmatization = True,links=True,numbers_remove=True):     \n",
        "\n",
        "    if newlines_tabs == True:  # Remover saltos de linea\n",
        "        data = remove_newlines_tabs(text) \n",
        "   \n",
        "    if links == True: #remove links\n",
        "        data = remove_links(data)\n",
        "        \n",
        "    if extra_whitespace == True: # Remover espacios en blanco\n",
        "        data = remove_whitespace(data)\n",
        "    \n",
        "    if lowercase == True: # Convertir mayusculas a minusculas\n",
        "        data = lower_text(data)\n",
        "    \n",
        "    if characters_specials == True: # Remover signos de puntuación\n",
        "        data = remove_special_characters(data)\n",
        "\n",
        "    if numbers_remove == True: # Remover números\n",
        "        data = remove_numbers(data)\n",
        "\n",
        "    if accented_chars == True: # Remover tildes\n",
        "        data = accented_characters_removal(data) \n",
        "\n",
        "    if stop_words == True: # Remover stopwords\n",
        "        data = remove_stopwords(data) \n",
        "\n",
        "    if lemmatization == True: # Lematizacion\n",
        "       data = lemmatizer(data)\n",
        "\n",
        "    if characters_specials == True: # Remover caracteres especiales\n",
        "        data = remove_special_characters(data)\n",
        "\n",
        "    if extra_whitespace == True: # Remover espacios en blanco\n",
        "        data = remove_whitespace(data)    \n",
        "       \n",
        "    return data"
      ]
    },
    {
      "cell_type": "code",
      "execution_count": null,
      "metadata": {
        "id": "QYxBsoRqfJ3Z"
      },
      "outputs": [],
      "source": [
        "def change_categories(campo):\n",
        "    if campo=='True' or campo=='Noticia Real' or campo=='0':\n",
        "        return 'Noticia Real'\n",
        "    else:\n",
        "        return 'Noticia Falsa'"
      ]
    },
    {
      "cell_type": "code",
      "execution_count": null,
      "metadata": {
        "id": "X-PfHRXj4rhW"
      },
      "outputs": [],
      "source": [
        "def create_model_production(name_model,model):\n",
        "  with open(name_model+'.pkl','wb') as model_pkl:\n",
        "    pickle.dump(model, model_pkl, protocol=2)"
      ]
    },
    {
      "cell_type": "code",
      "execution_count": null,
      "metadata": {
        "id": "nZsp-ofdbGLY"
      },
      "outputs": [],
      "source": [
        "def randomsearchmodels(model,hyperparameters_tuning,features_train_f,labels_train_f,features_test_f,labels_test_f):\n",
        "  gridsearch = RandomizedSearchCV(model,hyperparameters_tuning,n_iter=100,scoring='accuracy',cv=5,verbose=1,random_state=8)\n",
        "  gridsearch.fit(features_train_f,labels_train_f)\n",
        "  predictions = gridsearch.predict(features_test_f)\n",
        "  accuracy_model=accuracy_score(predictions, labels_test_f)\n",
        "  return gridsearch,predictions,accuracy_model"
      ]
    },
    {
      "cell_type": "code",
      "execution_count": null,
      "metadata": {
        "id": "fJRg78MbxR0l"
      },
      "outputs": [],
      "source": [
        "def tifdf_features (X_train, X_test, y_train, y_test,ngram_range,max_df,min_df,max_features):\n",
        "  tfidf = TfidfVectorizer(encoding='utf-8',\n",
        "                        ngram_range=ngram_range,\n",
        "                        stop_words=None,\n",
        "                        lowercase=False,\n",
        "                        max_df=max_df,\n",
        "                        min_df=min_df,\n",
        "                        max_features=max_features,\n",
        "                        norm='l2',\n",
        "                        sublinear_tf=True)\n",
        "  features_train = tfidf.fit_transform(X_train)\n",
        "  features_test = tfidf.transform(X_test)\n",
        "  labels_train = y_train\n",
        "  labels_test = y_test\n",
        "  return features_train,features_test,labels_train,labels_test,tfidf"
      ]
    },
    {
      "cell_type": "code",
      "execution_count": null,
      "metadata": {
        "id": "yGq3PnrAu2rs"
      },
      "outputs": [],
      "source": [
        "def removeFinalSpace(x):\n",
        "    if type(x)==str:\n",
        "        return x.lstrip()\n",
        "    else:\n",
        "        return x"
      ]
    },
    {
      "cell_type": "code",
      "execution_count": null,
      "metadata": {
        "id": "Y2Y9ZtZdu5Pm"
      },
      "outputs": [],
      "source": [
        "# removerlos al final  \n",
        "def removeInitSpace(x):\n",
        "    if type(x)==str:\n",
        "        return x.rstrip()\n",
        "    else:\n",
        "        return x"
      ]
    },
    {
      "cell_type": "code",
      "execution_count": null,
      "metadata": {
        "id": "y8_ctG55-uTX",
        "cellView": "form",
        "colab": {
          "base_uri": "https://localhost:8080/"
        },
        "outputId": "13309b11-d4d1-4e11-a948-77bd6aca25dc"
      },
      "outputs": [
        {
          "output_type": "stream",
          "name": "stdout",
          "text": [
            "BERT model selected           : https://tfhub.dev/tensorflow/bert_multi_cased_L-12_H-768_A-12/3\n",
            "Preprocess model auto-selected: https://tfhub.dev/tensorflow/bert_multi_cased_preprocess/3\n"
          ]
        }
      ],
      "source": [
        "#@title Seleccione el modelo de BERT para el fine-tune\n",
        "bert_model_name = 'bert_multi_cased_L-12_H-768_A-12'  #@param [\"bert_en_uncased_L-12_H-768_A-12\", \"bert_en_cased_L-12_H-768_A-12\", \"bert_multi_cased_L-12_H-768_A-12\", \"small_bert/bert_en_uncased_L-2_H-128_A-2\", \"small_bert/bert_en_uncased_L-2_H-256_A-4\", \"small_bert/bert_en_uncased_L-2_H-512_A-8\", \"small_bert/bert_en_uncased_L-2_H-768_A-12\", \"small_bert/bert_en_uncased_L-4_H-128_A-2\", \"small_bert/bert_en_uncased_L-4_H-256_A-4\", \"small_bert/bert_en_uncased_L-4_H-512_A-8\", \"small_bert/bert_en_uncased_L-4_H-768_A-12\", \"small_bert/bert_en_uncased_L-6_H-128_A-2\", \"small_bert/bert_en_uncased_L-6_H-256_A-4\", \"small_bert/bert_en_uncased_L-6_H-512_A-8\", \"small_bert/bert_en_uncased_L-6_H-768_A-12\", \"small_bert/bert_en_uncased_L-8_H-128_A-2\", \"small_bert/bert_en_uncased_L-8_H-256_A-4\", \"small_bert/bert_en_uncased_L-8_H-512_A-8\", \"small_bert/bert_en_uncased_L-8_H-768_A-12\", \"small_bert/bert_en_uncased_L-10_H-128_A-2\", \"small_bert/bert_en_uncased_L-10_H-256_A-4\", \"small_bert/bert_en_uncased_L-10_H-512_A-8\", \"small_bert/bert_en_uncased_L-10_H-768_A-12\", \"small_bert/bert_en_uncased_L-12_H-128_A-2\", \"small_bert/bert_en_uncased_L-12_H-256_A-4\", \"small_bert/bert_en_uncased_L-12_H-512_A-8\", \"small_bert/bert_en_uncased_L-12_H-768_A-12\", \"albert_en_base\", \"electra_small\", \"electra_base\", \"experts_pubmed\", \"experts_wiki_books\", \"talking-heads_base\"]\n",
        "\n",
        "map_name_to_handle = {\n",
        "    'bert_en_uncased_L-12_H-768_A-12':\n",
        "        'https://tfhub.dev/tensorflow/bert_en_uncased_L-12_H-768_A-12/3',\n",
        "    'bert_en_cased_L-12_H-768_A-12':\n",
        "        'https://tfhub.dev/tensorflow/bert_en_cased_L-12_H-768_A-12/3',\n",
        "    'bert_multi_cased_L-12_H-768_A-12':\n",
        "        'https://tfhub.dev/tensorflow/bert_multi_cased_L-12_H-768_A-12/3',\n",
        "    'small_bert/bert_en_uncased_L-2_H-128_A-2':\n",
        "        'https://tfhub.dev/tensorflow/small_bert/bert_en_uncased_L-2_H-128_A-2/1',\n",
        "    'small_bert/bert_en_uncased_L-2_H-256_A-4':\n",
        "        'https://tfhub.dev/tensorflow/small_bert/bert_en_uncased_L-2_H-256_A-4/1',\n",
        "    'small_bert/bert_en_uncased_L-2_H-512_A-8':\n",
        "        'https://tfhub.dev/tensorflow/small_bert/bert_en_uncased_L-2_H-512_A-8/1',\n",
        "    'small_bert/bert_en_uncased_L-2_H-768_A-12':\n",
        "        'https://tfhub.dev/tensorflow/small_bert/bert_en_uncased_L-2_H-768_A-12/1',\n",
        "    'small_bert/bert_en_uncased_L-4_H-128_A-2':\n",
        "        'https://tfhub.dev/tensorflow/small_bert/bert_en_uncased_L-4_H-128_A-2/1',\n",
        "    'small_bert/bert_en_uncased_L-4_H-256_A-4':\n",
        "        'https://tfhub.dev/tensorflow/small_bert/bert_en_uncased_L-4_H-256_A-4/1',\n",
        "    'small_bert/bert_en_uncased_L-4_H-512_A-8':\n",
        "        'https://tfhub.dev/tensorflow/small_bert/bert_en_uncased_L-4_H-512_A-8/1',\n",
        "    'small_bert/bert_en_uncased_L-4_H-768_A-12':\n",
        "        'https://tfhub.dev/tensorflow/small_bert/bert_en_uncased_L-4_H-768_A-12/1',\n",
        "    'small_bert/bert_en_uncased_L-6_H-128_A-2':\n",
        "        'https://tfhub.dev/tensorflow/small_bert/bert_en_uncased_L-6_H-128_A-2/1',\n",
        "    'small_bert/bert_en_uncased_L-6_H-256_A-4':\n",
        "        'https://tfhub.dev/tensorflow/small_bert/bert_en_uncased_L-6_H-256_A-4/1',\n",
        "    'small_bert/bert_en_uncased_L-6_H-512_A-8':\n",
        "        'https://tfhub.dev/tensorflow/small_bert/bert_en_uncased_L-6_H-512_A-8/1',\n",
        "    'small_bert/bert_en_uncased_L-6_H-768_A-12':\n",
        "        'https://tfhub.dev/tensorflow/small_bert/bert_en_uncased_L-6_H-768_A-12/1',\n",
        "    'small_bert/bert_en_uncased_L-8_H-128_A-2':\n",
        "        'https://tfhub.dev/tensorflow/small_bert/bert_en_uncased_L-8_H-128_A-2/1',\n",
        "    'small_bert/bert_en_uncased_L-8_H-256_A-4':\n",
        "        'https://tfhub.dev/tensorflow/small_bert/bert_en_uncased_L-8_H-256_A-4/1',\n",
        "    'small_bert/bert_en_uncased_L-8_H-512_A-8':\n",
        "        'https://tfhub.dev/tensorflow/small_bert/bert_en_uncased_L-8_H-512_A-8/1',\n",
        "    'small_bert/bert_en_uncased_L-8_H-768_A-12':\n",
        "        'https://tfhub.dev/tensorflow/small_bert/bert_en_uncased_L-8_H-768_A-12/1',\n",
        "    'small_bert/bert_en_uncased_L-10_H-128_A-2':\n",
        "        'https://tfhub.dev/tensorflow/small_bert/bert_en_uncased_L-10_H-128_A-2/1',\n",
        "    'small_bert/bert_en_uncased_L-10_H-256_A-4':\n",
        "        'https://tfhub.dev/tensorflow/small_bert/bert_en_uncased_L-10_H-256_A-4/1',\n",
        "    'small_bert/bert_en_uncased_L-10_H-512_A-8':\n",
        "        'https://tfhub.dev/tensorflow/small_bert/bert_en_uncased_L-10_H-512_A-8/1',\n",
        "    'small_bert/bert_en_uncased_L-10_H-768_A-12':\n",
        "        'https://tfhub.dev/tensorflow/small_bert/bert_en_uncased_L-10_H-768_A-12/1',\n",
        "    'small_bert/bert_en_uncased_L-12_H-128_A-2':\n",
        "        'https://tfhub.dev/tensorflow/small_bert/bert_en_uncased_L-12_H-128_A-2/1',\n",
        "    'small_bert/bert_en_uncased_L-12_H-256_A-4':\n",
        "        'https://tfhub.dev/tensorflow/small_bert/bert_en_uncased_L-12_H-256_A-4/1',\n",
        "    'small_bert/bert_en_uncased_L-12_H-512_A-8':\n",
        "        'https://tfhub.dev/tensorflow/small_bert/bert_en_uncased_L-12_H-512_A-8/1',\n",
        "    'small_bert/bert_en_uncased_L-12_H-768_A-12':\n",
        "        'https://tfhub.dev/tensorflow/small_bert/bert_en_uncased_L-12_H-768_A-12/1',\n",
        "    'albert_en_base':\n",
        "        'https://tfhub.dev/tensorflow/albert_en_base/2',\n",
        "    'electra_small':\n",
        "        'https://tfhub.dev/google/electra_small/2',\n",
        "    'electra_base':\n",
        "        'https://tfhub.dev/google/electra_base/2',\n",
        "    'experts_pubmed':\n",
        "        'https://tfhub.dev/google/experts/bert/pubmed/2',\n",
        "    'experts_wiki_books':\n",
        "        'https://tfhub.dev/google/experts/bert/wiki_books/2',\n",
        "    'talking-heads_base':\n",
        "        'https://tfhub.dev/tensorflow/talkheads_ggelu_bert_en_base/1',\n",
        "    'distilbert_multi_cased_L-6_H-768_A-12':\n",
        "      'https://tfhub.dev/jeongukjae/distilbert_multi_cased_L-6_H-768_A-12/1',\n",
        "}\n",
        "\n",
        "map_model_to_preprocess = {\n",
        "    'bert_en_uncased_L-12_H-768_A-12':\n",
        "        'https://tfhub.dev/tensorflow/bert_en_uncased_preprocess/3',\n",
        "    'bert_en_cased_L-12_H-768_A-12':\n",
        "        'https://tfhub.dev/tensorflow/bert_en_cased_preprocess/3',\n",
        "    'small_bert/bert_en_uncased_L-2_H-128_A-2':\n",
        "        'https://tfhub.dev/tensorflow/bert_en_uncased_preprocess/3',\n",
        "    'small_bert/bert_en_uncased_L-2_H-256_A-4':\n",
        "        'https://tfhub.dev/tensorflow/bert_en_uncased_preprocess/3',\n",
        "    'small_bert/bert_en_uncased_L-2_H-512_A-8':\n",
        "        'https://tfhub.dev/tensorflow/bert_en_uncased_preprocess/3',\n",
        "    'small_bert/bert_en_uncased_L-2_H-768_A-12':\n",
        "        'https://tfhub.dev/tensorflow/bert_en_uncased_preprocess/3',\n",
        "    'small_bert/bert_en_uncased_L-4_H-128_A-2':\n",
        "        'https://tfhub.dev/tensorflow/bert_en_uncased_preprocess/3',\n",
        "    'small_bert/bert_en_uncased_L-4_H-256_A-4':\n",
        "        'https://tfhub.dev/tensorflow/bert_en_uncased_preprocess/3',\n",
        "    'small_bert/bert_en_uncased_L-4_H-512_A-8':\n",
        "        'https://tfhub.dev/tensorflow/bert_en_uncased_preprocess/3',\n",
        "    'small_bert/bert_en_uncased_L-4_H-768_A-12':\n",
        "        'https://tfhub.dev/tensorflow/bert_en_uncased_preprocess/3',\n",
        "    'small_bert/bert_en_uncased_L-6_H-128_A-2':\n",
        "        'https://tfhub.dev/tensorflow/bert_en_uncased_preprocess/3',\n",
        "    'small_bert/bert_en_uncased_L-6_H-256_A-4':\n",
        "        'https://tfhub.dev/tensorflow/bert_en_uncased_preprocess/3',\n",
        "    'small_bert/bert_en_uncased_L-6_H-512_A-8':\n",
        "        'https://tfhub.dev/tensorflow/bert_en_uncased_preprocess/3',\n",
        "    'small_bert/bert_en_uncased_L-6_H-768_A-12':\n",
        "        'https://tfhub.dev/tensorflow/bert_en_uncased_preprocess/3',\n",
        "    'small_bert/bert_en_uncased_L-8_H-128_A-2':\n",
        "        'https://tfhub.dev/tensorflow/bert_en_uncased_preprocess/3',\n",
        "    'small_bert/bert_en_uncased_L-8_H-256_A-4':\n",
        "        'https://tfhub.dev/tensorflow/bert_en_uncased_preprocess/3',\n",
        "    'small_bert/bert_en_uncased_L-8_H-512_A-8':\n",
        "        'https://tfhub.dev/tensorflow/bert_en_uncased_preprocess/3',\n",
        "    'small_bert/bert_en_uncased_L-8_H-768_A-12':\n",
        "        'https://tfhub.dev/tensorflow/bert_en_uncased_preprocess/3',\n",
        "    'small_bert/bert_en_uncased_L-10_H-128_A-2':\n",
        "        'https://tfhub.dev/tensorflow/bert_en_uncased_preprocess/3',\n",
        "    'small_bert/bert_en_uncased_L-10_H-256_A-4':\n",
        "        'https://tfhub.dev/tensorflow/bert_en_uncased_preprocess/3',\n",
        "    'small_bert/bert_en_uncased_L-10_H-512_A-8':\n",
        "        'https://tfhub.dev/tensorflow/bert_en_uncased_preprocess/3',\n",
        "    'small_bert/bert_en_uncased_L-10_H-768_A-12':\n",
        "        'https://tfhub.dev/tensorflow/bert_en_uncased_preprocess/3',\n",
        "    'small_bert/bert_en_uncased_L-12_H-128_A-2':\n",
        "        'https://tfhub.dev/tensorflow/bert_en_uncased_preprocess/3',\n",
        "    'small_bert/bert_en_uncased_L-12_H-256_A-4':\n",
        "        'https://tfhub.dev/tensorflow/bert_en_uncased_preprocess/3',\n",
        "    'small_bert/bert_en_uncased_L-12_H-512_A-8':\n",
        "        'https://tfhub.dev/tensorflow/bert_en_uncased_preprocess/3',\n",
        "    'small_bert/bert_en_uncased_L-12_H-768_A-12':\n",
        "        'https://tfhub.dev/tensorflow/bert_en_uncased_preprocess/3',\n",
        "    'bert_multi_cased_L-12_H-768_A-12':\n",
        "        'https://tfhub.dev/tensorflow/bert_multi_cased_preprocess/3',\n",
        "    'albert_en_base':\n",
        "        'https://tfhub.dev/tensorflow/albert_en_preprocess/3',\n",
        "    'electra_small':\n",
        "        'https://tfhub.dev/tensorflow/bert_en_uncased_preprocess/3',\n",
        "    'electra_base':\n",
        "        'https://tfhub.dev/tensorflow/bert_en_uncased_preprocess/3',\n",
        "    'experts_pubmed':\n",
        "        'https://tfhub.dev/tensorflow/bert_en_uncased_preprocess/3',\n",
        "    'experts_wiki_books':\n",
        "        'https://tfhub.dev/tensorflow/bert_en_uncased_preprocess/3',\n",
        "    'talking-heads_base':\n",
        "        'https://tfhub.dev/tensorflow/bert_en_uncased_preprocess/3',\n",
        "    'distilbert_multi_cased_L-6_H-768_A-12':\n",
        "      'https://tfhub.dev/jeongukjae/distilbert_multi_cased_L-6_H-768_A-12/1',\n",
        "}\n",
        "\n",
        "tfhub_handle_encoder = map_name_to_handle[bert_model_name]\n",
        "tfhub_handle_preprocess = map_model_to_preprocess[bert_model_name]\n",
        "\n",
        "print(f'BERT model selected           : {tfhub_handle_encoder}')\n",
        "print(f'Preprocess model auto-selected: {tfhub_handle_preprocess}')"
      ]
    },
    {
      "cell_type": "markdown",
      "metadata": {
        "id": "olt8kO7ey8wt"
      },
      "source": [
        "#**Twitter**"
      ]
    },
    {
      "cell_type": "markdown",
      "metadata": {
        "id": "vOo4PJ9lzA8P"
      },
      "source": [
        "Credenciales Consumo API"
      ]
    },
    {
      "cell_type": "code",
      "execution_count": null,
      "metadata": {
        "id": "uHor-29tzETI"
      },
      "outputs": [],
      "source": [
        "# API Keys para autenticacion\n",
        "api_key = \"UcZ9gR5yMV4MlKTFaSwhC1aNX\" \n",
        "api_secret = \"R5BjKcmHan6MGaX98UMhytQfLiZI7TLl9AATGtixJLwmAU2DFR\"\n",
        "access_token = \"1452452402070794241-rKitK0leSslMs9XoXEDBTxOwplOGGU\"\n",
        "access_token_secret = \"lBAxKokr4Hkg3DxvaUMTWkAqU0E9O5KfZCmJoPulnfSRn\""
      ]
    },
    {
      "cell_type": "code",
      "execution_count": null,
      "metadata": {
        "id": "IAoWIQPJzFAR"
      },
      "outputs": [],
      "source": [
        "# Autorización para consumo API\n",
        "auth = tweepy.OAuthHandler(api_key, api_secret) \n",
        "# Acceso al API\n",
        "auth.set_access_token(access_token, access_token_secret) \n",
        "# Instancia para llamar a la API \n",
        "api = tweepy.API(auth, wait_on_rate_limit=True) "
      ]
    },
    {
      "cell_type": "code",
      "execution_count": null,
      "metadata": {
        "id": "0HnqT6x9zN1F"
      },
      "outputs": [],
      "source": [
        "#Obtener Tweets de cuenta\n",
        "df_tweets=get_tweets(api,\"petrogustavo\",10,False)"
      ]
    },
    {
      "cell_type": "code",
      "execution_count": null,
      "metadata": {
        "id": "PmEBLge8Xkvk"
      },
      "outputs": [],
      "source": [
        "df_tweets.full_text.iloc[1]"
      ]
    },
    {
      "cell_type": "markdown",
      "metadata": {
        "id": "0zZsGnAKt2KU"
      },
      "source": [
        "#**Cargar Corpus**"
      ]
    },
    {
      "cell_type": "code",
      "source": [
        "url_archivos='https://docs.google.com/uc?export=download&id=1l6T0xw_WIwHEtCgMwGJNjP7mqDnoRN3o'\n",
        "download_unzip(url_archivos)"
      ],
      "metadata": {
        "id": "JHbnucOgzk80"
      },
      "execution_count": null,
      "outputs": []
    },
    {
      "cell_type": "code",
      "execution_count": null,
      "metadata": {
        "id": "2X0v7Tm0bK5J"
      },
      "outputs": [],
      "source": [
        "# opcionalmente se pueden cargar los archivos de trabajo desde el area de trabajo local. Estos se deben cargar previamente \n",
        "df=pd.read_excel(\"files/Corpus_Noticias_Falsas.xlsx\")\n",
        "df2=pd.read_excel(\"files/train.xlsx\")\n",
        "df3=pd.read_csv(\"files/fakes2000.csv\", skipinitialspace=True, skip_blank_lines=True, encoding='utf-8')\n",
        "df_stopwords=pd.read_csv(\"files/spanish.txt\")"
      ]
    },
    {
      "cell_type": "code",
      "execution_count": null,
      "metadata": {
        "id": "Jx682buHpbW_",
        "colab": {
          "base_uri": "https://localhost:8080/",
          "height": 424
        },
        "outputId": "fa10aec0-f66d-4ae6-ff7a-650539a26471"
      },
      "outputs": [
        {
          "output_type": "execute_result",
          "data": {
            "text/plain": [
              "        Categoria                                              Texto\n",
              "0    Noticia Real  El presidente Iván Duque condenó fuertemente e...\n",
              "1    Noticia Real  Gustavo Petro se reunirá con Pedro Sánchez, pr...\n",
              "2    Noticia Real  Marta Lucía Ramírez se queja por servicio en e...\n",
              "3    Noticia Real  Elecciones de 2022 requieren mayor cuidado, po...\n",
              "4    Noticia Real  ANTE LA expansión de la variante ómicron en el...\n",
              "..            ...                                                ...\n",
              "492  Noticia Real  Los pasacalles de la campaña de Comunes en Pue...\n",
              "493  Noticia Real  En medio de uno de los momentos más difíciles ...\n",
              "494  Noticia Real  Entre el sábado 29 de enero y el viernes 11 de...\n",
              "495  Noticia Real  El presidente Iván Duque respondió a la decisi...\n",
              "496  Noticia Real  En medio de una operación militar desplegada d...\n",
              "\n",
              "[497 rows x 2 columns]"
            ],
            "text/html": [
              "\n",
              "  <div id=\"df-926c097c-b543-4ac5-8889-cfcb935bc51f\">\n",
              "    <div class=\"colab-df-container\">\n",
              "      <div>\n",
              "<style scoped>\n",
              "    .dataframe tbody tr th:only-of-type {\n",
              "        vertical-align: middle;\n",
              "    }\n",
              "\n",
              "    .dataframe tbody tr th {\n",
              "        vertical-align: top;\n",
              "    }\n",
              "\n",
              "    .dataframe thead th {\n",
              "        text-align: right;\n",
              "    }\n",
              "</style>\n",
              "<table border=\"1\" class=\"dataframe\">\n",
              "  <thead>\n",
              "    <tr style=\"text-align: right;\">\n",
              "      <th></th>\n",
              "      <th>Categoria</th>\n",
              "      <th>Texto</th>\n",
              "    </tr>\n",
              "  </thead>\n",
              "  <tbody>\n",
              "    <tr>\n",
              "      <th>0</th>\n",
              "      <td>Noticia Real</td>\n",
              "      <td>El presidente Iván Duque condenó fuertemente e...</td>\n",
              "    </tr>\n",
              "    <tr>\n",
              "      <th>1</th>\n",
              "      <td>Noticia Real</td>\n",
              "      <td>Gustavo Petro se reunirá con Pedro Sánchez, pr...</td>\n",
              "    </tr>\n",
              "    <tr>\n",
              "      <th>2</th>\n",
              "      <td>Noticia Real</td>\n",
              "      <td>Marta Lucía Ramírez se queja por servicio en e...</td>\n",
              "    </tr>\n",
              "    <tr>\n",
              "      <th>3</th>\n",
              "      <td>Noticia Real</td>\n",
              "      <td>Elecciones de 2022 requieren mayor cuidado, po...</td>\n",
              "    </tr>\n",
              "    <tr>\n",
              "      <th>4</th>\n",
              "      <td>Noticia Real</td>\n",
              "      <td>ANTE LA expansión de la variante ómicron en el...</td>\n",
              "    </tr>\n",
              "    <tr>\n",
              "      <th>...</th>\n",
              "      <td>...</td>\n",
              "      <td>...</td>\n",
              "    </tr>\n",
              "    <tr>\n",
              "      <th>492</th>\n",
              "      <td>Noticia Real</td>\n",
              "      <td>Los pasacalles de la campaña de Comunes en Pue...</td>\n",
              "    </tr>\n",
              "    <tr>\n",
              "      <th>493</th>\n",
              "      <td>Noticia Real</td>\n",
              "      <td>En medio de uno de los momentos más difíciles ...</td>\n",
              "    </tr>\n",
              "    <tr>\n",
              "      <th>494</th>\n",
              "      <td>Noticia Real</td>\n",
              "      <td>Entre el sábado 29 de enero y el viernes 11 de...</td>\n",
              "    </tr>\n",
              "    <tr>\n",
              "      <th>495</th>\n",
              "      <td>Noticia Real</td>\n",
              "      <td>El presidente Iván Duque respondió a la decisi...</td>\n",
              "    </tr>\n",
              "    <tr>\n",
              "      <th>496</th>\n",
              "      <td>Noticia Real</td>\n",
              "      <td>En medio de una operación militar desplegada d...</td>\n",
              "    </tr>\n",
              "  </tbody>\n",
              "</table>\n",
              "<p>497 rows × 2 columns</p>\n",
              "</div>\n",
              "      <button class=\"colab-df-convert\" onclick=\"convertToInteractive('df-926c097c-b543-4ac5-8889-cfcb935bc51f')\"\n",
              "              title=\"Convert this dataframe to an interactive table.\"\n",
              "              style=\"display:none;\">\n",
              "        \n",
              "  <svg xmlns=\"http://www.w3.org/2000/svg\" height=\"24px\"viewBox=\"0 0 24 24\"\n",
              "       width=\"24px\">\n",
              "    <path d=\"M0 0h24v24H0V0z\" fill=\"none\"/>\n",
              "    <path d=\"M18.56 5.44l.94 2.06.94-2.06 2.06-.94-2.06-.94-.94-2.06-.94 2.06-2.06.94zm-11 1L8.5 8.5l.94-2.06 2.06-.94-2.06-.94L8.5 2.5l-.94 2.06-2.06.94zm10 10l.94 2.06.94-2.06 2.06-.94-2.06-.94-.94-2.06-.94 2.06-2.06.94z\"/><path d=\"M17.41 7.96l-1.37-1.37c-.4-.4-.92-.59-1.43-.59-.52 0-1.04.2-1.43.59L10.3 9.45l-7.72 7.72c-.78.78-.78 2.05 0 2.83L4 21.41c.39.39.9.59 1.41.59.51 0 1.02-.2 1.41-.59l7.78-7.78 2.81-2.81c.8-.78.8-2.07 0-2.86zM5.41 20L4 18.59l7.72-7.72 1.47 1.35L5.41 20z\"/>\n",
              "  </svg>\n",
              "      </button>\n",
              "      \n",
              "  <style>\n",
              "    .colab-df-container {\n",
              "      display:flex;\n",
              "      flex-wrap:wrap;\n",
              "      gap: 12px;\n",
              "    }\n",
              "\n",
              "    .colab-df-convert {\n",
              "      background-color: #E8F0FE;\n",
              "      border: none;\n",
              "      border-radius: 50%;\n",
              "      cursor: pointer;\n",
              "      display: none;\n",
              "      fill: #1967D2;\n",
              "      height: 32px;\n",
              "      padding: 0 0 0 0;\n",
              "      width: 32px;\n",
              "    }\n",
              "\n",
              "    .colab-df-convert:hover {\n",
              "      background-color: #E2EBFA;\n",
              "      box-shadow: 0px 1px 2px rgba(60, 64, 67, 0.3), 0px 1px 3px 1px rgba(60, 64, 67, 0.15);\n",
              "      fill: #174EA6;\n",
              "    }\n",
              "\n",
              "    [theme=dark] .colab-df-convert {\n",
              "      background-color: #3B4455;\n",
              "      fill: #D2E3FC;\n",
              "    }\n",
              "\n",
              "    [theme=dark] .colab-df-convert:hover {\n",
              "      background-color: #434B5C;\n",
              "      box-shadow: 0px 1px 3px 1px rgba(0, 0, 0, 0.15);\n",
              "      filter: drop-shadow(0px 1px 2px rgba(0, 0, 0, 0.3));\n",
              "      fill: #FFFFFF;\n",
              "    }\n",
              "  </style>\n",
              "\n",
              "      <script>\n",
              "        const buttonEl =\n",
              "          document.querySelector('#df-926c097c-b543-4ac5-8889-cfcb935bc51f button.colab-df-convert');\n",
              "        buttonEl.style.display =\n",
              "          google.colab.kernel.accessAllowed ? 'block' : 'none';\n",
              "\n",
              "        async function convertToInteractive(key) {\n",
              "          const element = document.querySelector('#df-926c097c-b543-4ac5-8889-cfcb935bc51f');\n",
              "          const dataTable =\n",
              "            await google.colab.kernel.invokeFunction('convertToInteractive',\n",
              "                                                     [key], {});\n",
              "          if (!dataTable) return;\n",
              "\n",
              "          const docLinkHtml = 'Like what you see? Visit the ' +\n",
              "            '<a target=\"_blank\" href=https://colab.research.google.com/notebooks/data_table.ipynb>data table notebook</a>'\n",
              "            + ' to learn more about interactive tables.';\n",
              "          element.innerHTML = '';\n",
              "          dataTable['output_type'] = 'display_data';\n",
              "          await google.colab.output.renderOutput(dataTable, element);\n",
              "          const docLink = document.createElement('div');\n",
              "          docLink.innerHTML = docLinkHtml;\n",
              "          element.appendChild(docLink);\n",
              "        }\n",
              "      </script>\n",
              "    </div>\n",
              "  </div>\n",
              "  "
            ]
          },
          "metadata": {},
          "execution_count": 25
        }
      ],
      "source": [
        "df=df[['Categoria','Texto']] # Corpus creado por Eduardo Flores y Juan Montano\n",
        "df"
      ]
    },
    {
      "cell_type": "code",
      "execution_count": null,
      "metadata": {
        "id": "2X7GFWOgmF6Z",
        "colab": {
          "base_uri": "https://localhost:8080/"
        },
        "outputId": "9caa325a-0120-4ecc-9e32-cecf8a428899"
      },
      "outputs": [
        {
          "output_type": "execute_result",
          "data": {
            "text/plain": [
              "1229"
            ]
          },
          "metadata": {},
          "execution_count": 26
        }
      ],
      "source": [
        "#stoplist.clear() : funcion para borra el contenido de la lista\n",
        "stoplist.extend(df_stopwords['stopwords'].tolist())\n",
        "len(stoplist)"
      ]
    },
    {
      "cell_type": "code",
      "execution_count": null,
      "metadata": {
        "id": "2zdVrREPqNmx"
      },
      "outputs": [],
      "source": [
        "# eliminar las tildes de los stopword para la limpieza.\n",
        "list_stop_words = []\n",
        "for n in stoplist:\n",
        "  list_stop_words.append(unidecode.unidecode(n))\n",
        "stoplist=list_stop_words"
      ]
    },
    {
      "cell_type": "code",
      "execution_count": null,
      "metadata": {
        "id": "hh82dWF-pg0O",
        "colab": {
          "base_uri": "https://localhost:8080/"
        },
        "outputId": "57fa4d8e-a757-42a4-de23-b45386aec5a4"
      },
      "outputs": [
        {
          "output_type": "execute_result",
          "data": {
            "text/plain": [
              "Categoria\n",
              "Noticia Real     260\n",
              "Noticia Falsa    237\n",
              "dtype: int64"
            ]
          },
          "metadata": {},
          "execution_count": 28
        }
      ],
      "source": [
        "df.value_counts(df['Categoria'])"
      ]
    },
    {
      "cell_type": "code",
      "execution_count": null,
      "metadata": {
        "id": "0k1fHp6gSwuG",
        "colab": {
          "base_uri": "https://localhost:8080/",
          "height": 424
        },
        "outputId": "2c28946d-f562-420f-e8da-e93d3cdc5776"
      },
      "outputs": [
        {
          "output_type": "execute_result",
          "data": {
            "text/plain": [
              "    Category                                               Text\n",
              "0       Fake  RAE INCLUIRÁ LA PALABRA \"LADY\" EN EL DICCIONAR...\n",
              "1       Fake  La palabra \"haiga\", aceptada por la RAE La Rea...\n",
              "2       Fake  YORDI ROSADO ESCRIBIRÁ Y DISEÑARÁ LOS NUEVOS L...\n",
              "3       True  UNAM capacitará a maestros para aprobar prueba...\n",
              "4       Fake  Alerta: pretenden aprobar libros escolares con...\n",
              "..       ...                                                ...\n",
              "671     Fake  Madonna será la nueva imagen del Chocolate Abu...\n",
              "672     True  Filtran material íntimo de Zelina Vega, luchad...\n",
              "673     Fake  CBS PLANEA GRAN HERMANO EN LA CASA BLANCA CON ...\n",
              "674     Fake  TV Azteca anuncia que cambiará su nombre por u...\n",
              "675     Fake  MUERTE DE PETER EL ANGUILA POR SOBREDOSIS\\nPet...\n",
              "\n",
              "[676 rows x 2 columns]"
            ],
            "text/html": [
              "\n",
              "  <div id=\"df-aaf01273-42f3-42ec-8660-e66390b03ba7\">\n",
              "    <div class=\"colab-df-container\">\n",
              "      <div>\n",
              "<style scoped>\n",
              "    .dataframe tbody tr th:only-of-type {\n",
              "        vertical-align: middle;\n",
              "    }\n",
              "\n",
              "    .dataframe tbody tr th {\n",
              "        vertical-align: top;\n",
              "    }\n",
              "\n",
              "    .dataframe thead th {\n",
              "        text-align: right;\n",
              "    }\n",
              "</style>\n",
              "<table border=\"1\" class=\"dataframe\">\n",
              "  <thead>\n",
              "    <tr style=\"text-align: right;\">\n",
              "      <th></th>\n",
              "      <th>Category</th>\n",
              "      <th>Text</th>\n",
              "    </tr>\n",
              "  </thead>\n",
              "  <tbody>\n",
              "    <tr>\n",
              "      <th>0</th>\n",
              "      <td>Fake</td>\n",
              "      <td>RAE INCLUIRÁ LA PALABRA \"LADY\" EN EL DICCIONAR...</td>\n",
              "    </tr>\n",
              "    <tr>\n",
              "      <th>1</th>\n",
              "      <td>Fake</td>\n",
              "      <td>La palabra \"haiga\", aceptada por la RAE La Rea...</td>\n",
              "    </tr>\n",
              "    <tr>\n",
              "      <th>2</th>\n",
              "      <td>Fake</td>\n",
              "      <td>YORDI ROSADO ESCRIBIRÁ Y DISEÑARÁ LOS NUEVOS L...</td>\n",
              "    </tr>\n",
              "    <tr>\n",
              "      <th>3</th>\n",
              "      <td>True</td>\n",
              "      <td>UNAM capacitará a maestros para aprobar prueba...</td>\n",
              "    </tr>\n",
              "    <tr>\n",
              "      <th>4</th>\n",
              "      <td>Fake</td>\n",
              "      <td>Alerta: pretenden aprobar libros escolares con...</td>\n",
              "    </tr>\n",
              "    <tr>\n",
              "      <th>...</th>\n",
              "      <td>...</td>\n",
              "      <td>...</td>\n",
              "    </tr>\n",
              "    <tr>\n",
              "      <th>671</th>\n",
              "      <td>Fake</td>\n",
              "      <td>Madonna será la nueva imagen del Chocolate Abu...</td>\n",
              "    </tr>\n",
              "    <tr>\n",
              "      <th>672</th>\n",
              "      <td>True</td>\n",
              "      <td>Filtran material íntimo de Zelina Vega, luchad...</td>\n",
              "    </tr>\n",
              "    <tr>\n",
              "      <th>673</th>\n",
              "      <td>Fake</td>\n",
              "      <td>CBS PLANEA GRAN HERMANO EN LA CASA BLANCA CON ...</td>\n",
              "    </tr>\n",
              "    <tr>\n",
              "      <th>674</th>\n",
              "      <td>Fake</td>\n",
              "      <td>TV Azteca anuncia que cambiará su nombre por u...</td>\n",
              "    </tr>\n",
              "    <tr>\n",
              "      <th>675</th>\n",
              "      <td>Fake</td>\n",
              "      <td>MUERTE DE PETER EL ANGUILA POR SOBREDOSIS\\nPet...</td>\n",
              "    </tr>\n",
              "  </tbody>\n",
              "</table>\n",
              "<p>676 rows × 2 columns</p>\n",
              "</div>\n",
              "      <button class=\"colab-df-convert\" onclick=\"convertToInteractive('df-aaf01273-42f3-42ec-8660-e66390b03ba7')\"\n",
              "              title=\"Convert this dataframe to an interactive table.\"\n",
              "              style=\"display:none;\">\n",
              "        \n",
              "  <svg xmlns=\"http://www.w3.org/2000/svg\" height=\"24px\"viewBox=\"0 0 24 24\"\n",
              "       width=\"24px\">\n",
              "    <path d=\"M0 0h24v24H0V0z\" fill=\"none\"/>\n",
              "    <path d=\"M18.56 5.44l.94 2.06.94-2.06 2.06-.94-2.06-.94-.94-2.06-.94 2.06-2.06.94zm-11 1L8.5 8.5l.94-2.06 2.06-.94-2.06-.94L8.5 2.5l-.94 2.06-2.06.94zm10 10l.94 2.06.94-2.06 2.06-.94-2.06-.94-.94-2.06-.94 2.06-2.06.94z\"/><path d=\"M17.41 7.96l-1.37-1.37c-.4-.4-.92-.59-1.43-.59-.52 0-1.04.2-1.43.59L10.3 9.45l-7.72 7.72c-.78.78-.78 2.05 0 2.83L4 21.41c.39.39.9.59 1.41.59.51 0 1.02-.2 1.41-.59l7.78-7.78 2.81-2.81c.8-.78.8-2.07 0-2.86zM5.41 20L4 18.59l7.72-7.72 1.47 1.35L5.41 20z\"/>\n",
              "  </svg>\n",
              "      </button>\n",
              "      \n",
              "  <style>\n",
              "    .colab-df-container {\n",
              "      display:flex;\n",
              "      flex-wrap:wrap;\n",
              "      gap: 12px;\n",
              "    }\n",
              "\n",
              "    .colab-df-convert {\n",
              "      background-color: #E8F0FE;\n",
              "      border: none;\n",
              "      border-radius: 50%;\n",
              "      cursor: pointer;\n",
              "      display: none;\n",
              "      fill: #1967D2;\n",
              "      height: 32px;\n",
              "      padding: 0 0 0 0;\n",
              "      width: 32px;\n",
              "    }\n",
              "\n",
              "    .colab-df-convert:hover {\n",
              "      background-color: #E2EBFA;\n",
              "      box-shadow: 0px 1px 2px rgba(60, 64, 67, 0.3), 0px 1px 3px 1px rgba(60, 64, 67, 0.15);\n",
              "      fill: #174EA6;\n",
              "    }\n",
              "\n",
              "    [theme=dark] .colab-df-convert {\n",
              "      background-color: #3B4455;\n",
              "      fill: #D2E3FC;\n",
              "    }\n",
              "\n",
              "    [theme=dark] .colab-df-convert:hover {\n",
              "      background-color: #434B5C;\n",
              "      box-shadow: 0px 1px 3px 1px rgba(0, 0, 0, 0.15);\n",
              "      filter: drop-shadow(0px 1px 2px rgba(0, 0, 0, 0.3));\n",
              "      fill: #FFFFFF;\n",
              "    }\n",
              "  </style>\n",
              "\n",
              "      <script>\n",
              "        const buttonEl =\n",
              "          document.querySelector('#df-aaf01273-42f3-42ec-8660-e66390b03ba7 button.colab-df-convert');\n",
              "        buttonEl.style.display =\n",
              "          google.colab.kernel.accessAllowed ? 'block' : 'none';\n",
              "\n",
              "        async function convertToInteractive(key) {\n",
              "          const element = document.querySelector('#df-aaf01273-42f3-42ec-8660-e66390b03ba7');\n",
              "          const dataTable =\n",
              "            await google.colab.kernel.invokeFunction('convertToInteractive',\n",
              "                                                     [key], {});\n",
              "          if (!dataTable) return;\n",
              "\n",
              "          const docLinkHtml = 'Like what you see? Visit the ' +\n",
              "            '<a target=\"_blank\" href=https://colab.research.google.com/notebooks/data_table.ipynb>data table notebook</a>'\n",
              "            + ' to learn more about interactive tables.';\n",
              "          element.innerHTML = '';\n",
              "          dataTable['output_type'] = 'display_data';\n",
              "          await google.colab.output.renderOutput(dataTable, element);\n",
              "          const docLink = document.createElement('div');\n",
              "          docLink.innerHTML = docLinkHtml;\n",
              "          element.appendChild(docLink);\n",
              "        }\n",
              "      </script>\n",
              "    </div>\n",
              "  </div>\n",
              "  "
            ]
          },
          "metadata": {},
          "execution_count": 29
        }
      ],
      "source": [
        "## seleccionar las dos columans de trabajo\n",
        "df2=df2[['Category','Text']] # Corpus Posadas-Duran\n",
        "df2"
      ]
    },
    {
      "cell_type": "code",
      "execution_count": null,
      "metadata": {
        "id": "xo4CYBBPeK5j"
      },
      "outputs": [],
      "source": [
        "# se renombran las columas para realizar la union de los dos corpus\n",
        "df2=df2.rename(columns={'Category':'Categoria', 'Text':'Texto'})"
      ]
    },
    {
      "cell_type": "code",
      "execution_count": null,
      "metadata": {
        "id": "LSH1lyaOgn_l",
        "colab": {
          "base_uri": "https://localhost:8080/"
        },
        "outputId": "ee1d76fe-6fe5-4f50-f4b6-33a82b216fb6"
      },
      "outputs": [
        {
          "output_type": "execute_result",
          "data": {
            "text/plain": [
              "Categoria\n",
              "Fake    338\n",
              "True    338\n",
              "dtype: int64"
            ]
          },
          "metadata": {},
          "execution_count": 31
        }
      ],
      "source": [
        "df2.value_counts('Categoria')"
      ]
    },
    {
      "cell_type": "code",
      "execution_count": null,
      "metadata": {
        "id": "zbJ7avFQsYDN",
        "colab": {
          "base_uri": "https://localhost:8080/",
          "height": 424
        },
        "outputId": "fac5eb03-40be-4f24-ec49-bf4a54581855"
      },
      "outputs": [
        {
          "output_type": "execute_result",
          "data": {
            "text/plain": [
              "      class                                               Text\n",
              "0      True   Algunas de las voces extremistas más conocida...\n",
              "1      True   Después de casi dos años y medio de luchas po...\n",
              "2      True  Dos periodistas birmanos de la agencia Reuters...\n",
              "3      True  El Cuerpo Nacional de Policía ha detenido a cu...\n",
              "4      True  El desfile de la firma en Roma se convierte en...\n",
              "...     ...                                                ...\n",
              "1995   True   El Consejo de Gobierno ha dado su visto bueno...\n",
              "1996   True   Investigadores valencianos han desarrollado u...\n",
              "1997   True   Los arrestados actuaban en coches y en establ...\n",
              "1998   True   El Rey ha encargado este miércoles a Pedro Sá...\n",
              "1999   True   Las pruebas realizadas en el Centro Nacional ...\n",
              "\n",
              "[2000 rows x 2 columns]"
            ],
            "text/html": [
              "\n",
              "  <div id=\"df-e8c6fad4-b10f-4e32-b024-6b3f1c4c7ee7\">\n",
              "    <div class=\"colab-df-container\">\n",
              "      <div>\n",
              "<style scoped>\n",
              "    .dataframe tbody tr th:only-of-type {\n",
              "        vertical-align: middle;\n",
              "    }\n",
              "\n",
              "    .dataframe tbody tr th {\n",
              "        vertical-align: top;\n",
              "    }\n",
              "\n",
              "    .dataframe thead th {\n",
              "        text-align: right;\n",
              "    }\n",
              "</style>\n",
              "<table border=\"1\" class=\"dataframe\">\n",
              "  <thead>\n",
              "    <tr style=\"text-align: right;\">\n",
              "      <th></th>\n",
              "      <th>class</th>\n",
              "      <th>Text</th>\n",
              "    </tr>\n",
              "  </thead>\n",
              "  <tbody>\n",
              "    <tr>\n",
              "      <th>0</th>\n",
              "      <td>True</td>\n",
              "      <td>Algunas de las voces extremistas más conocida...</td>\n",
              "    </tr>\n",
              "    <tr>\n",
              "      <th>1</th>\n",
              "      <td>True</td>\n",
              "      <td>Después de casi dos años y medio de luchas po...</td>\n",
              "    </tr>\n",
              "    <tr>\n",
              "      <th>2</th>\n",
              "      <td>True</td>\n",
              "      <td>Dos periodistas birmanos de la agencia Reuters...</td>\n",
              "    </tr>\n",
              "    <tr>\n",
              "      <th>3</th>\n",
              "      <td>True</td>\n",
              "      <td>El Cuerpo Nacional de Policía ha detenido a cu...</td>\n",
              "    </tr>\n",
              "    <tr>\n",
              "      <th>4</th>\n",
              "      <td>True</td>\n",
              "      <td>El desfile de la firma en Roma se convierte en...</td>\n",
              "    </tr>\n",
              "    <tr>\n",
              "      <th>...</th>\n",
              "      <td>...</td>\n",
              "      <td>...</td>\n",
              "    </tr>\n",
              "    <tr>\n",
              "      <th>1995</th>\n",
              "      <td>True</td>\n",
              "      <td>El Consejo de Gobierno ha dado su visto bueno...</td>\n",
              "    </tr>\n",
              "    <tr>\n",
              "      <th>1996</th>\n",
              "      <td>True</td>\n",
              "      <td>Investigadores valencianos han desarrollado u...</td>\n",
              "    </tr>\n",
              "    <tr>\n",
              "      <th>1997</th>\n",
              "      <td>True</td>\n",
              "      <td>Los arrestados actuaban en coches y en establ...</td>\n",
              "    </tr>\n",
              "    <tr>\n",
              "      <th>1998</th>\n",
              "      <td>True</td>\n",
              "      <td>El Rey ha encargado este miércoles a Pedro Sá...</td>\n",
              "    </tr>\n",
              "    <tr>\n",
              "      <th>1999</th>\n",
              "      <td>True</td>\n",
              "      <td>Las pruebas realizadas en el Centro Nacional ...</td>\n",
              "    </tr>\n",
              "  </tbody>\n",
              "</table>\n",
              "<p>2000 rows × 2 columns</p>\n",
              "</div>\n",
              "      <button class=\"colab-df-convert\" onclick=\"convertToInteractive('df-e8c6fad4-b10f-4e32-b024-6b3f1c4c7ee7')\"\n",
              "              title=\"Convert this dataframe to an interactive table.\"\n",
              "              style=\"display:none;\">\n",
              "        \n",
              "  <svg xmlns=\"http://www.w3.org/2000/svg\" height=\"24px\"viewBox=\"0 0 24 24\"\n",
              "       width=\"24px\">\n",
              "    <path d=\"M0 0h24v24H0V0z\" fill=\"none\"/>\n",
              "    <path d=\"M18.56 5.44l.94 2.06.94-2.06 2.06-.94-2.06-.94-.94-2.06-.94 2.06-2.06.94zm-11 1L8.5 8.5l.94-2.06 2.06-.94-2.06-.94L8.5 2.5l-.94 2.06-2.06.94zm10 10l.94 2.06.94-2.06 2.06-.94-2.06-.94-.94-2.06-.94 2.06-2.06.94z\"/><path d=\"M17.41 7.96l-1.37-1.37c-.4-.4-.92-.59-1.43-.59-.52 0-1.04.2-1.43.59L10.3 9.45l-7.72 7.72c-.78.78-.78 2.05 0 2.83L4 21.41c.39.39.9.59 1.41.59.51 0 1.02-.2 1.41-.59l7.78-7.78 2.81-2.81c.8-.78.8-2.07 0-2.86zM5.41 20L4 18.59l7.72-7.72 1.47 1.35L5.41 20z\"/>\n",
              "  </svg>\n",
              "      </button>\n",
              "      \n",
              "  <style>\n",
              "    .colab-df-container {\n",
              "      display:flex;\n",
              "      flex-wrap:wrap;\n",
              "      gap: 12px;\n",
              "    }\n",
              "\n",
              "    .colab-df-convert {\n",
              "      background-color: #E8F0FE;\n",
              "      border: none;\n",
              "      border-radius: 50%;\n",
              "      cursor: pointer;\n",
              "      display: none;\n",
              "      fill: #1967D2;\n",
              "      height: 32px;\n",
              "      padding: 0 0 0 0;\n",
              "      width: 32px;\n",
              "    }\n",
              "\n",
              "    .colab-df-convert:hover {\n",
              "      background-color: #E2EBFA;\n",
              "      box-shadow: 0px 1px 2px rgba(60, 64, 67, 0.3), 0px 1px 3px 1px rgba(60, 64, 67, 0.15);\n",
              "      fill: #174EA6;\n",
              "    }\n",
              "\n",
              "    [theme=dark] .colab-df-convert {\n",
              "      background-color: #3B4455;\n",
              "      fill: #D2E3FC;\n",
              "    }\n",
              "\n",
              "    [theme=dark] .colab-df-convert:hover {\n",
              "      background-color: #434B5C;\n",
              "      box-shadow: 0px 1px 3px 1px rgba(0, 0, 0, 0.15);\n",
              "      filter: drop-shadow(0px 1px 2px rgba(0, 0, 0, 0.3));\n",
              "      fill: #FFFFFF;\n",
              "    }\n",
              "  </style>\n",
              "\n",
              "      <script>\n",
              "        const buttonEl =\n",
              "          document.querySelector('#df-e8c6fad4-b10f-4e32-b024-6b3f1c4c7ee7 button.colab-df-convert');\n",
              "        buttonEl.style.display =\n",
              "          google.colab.kernel.accessAllowed ? 'block' : 'none';\n",
              "\n",
              "        async function convertToInteractive(key) {\n",
              "          const element = document.querySelector('#df-e8c6fad4-b10f-4e32-b024-6b3f1c4c7ee7');\n",
              "          const dataTable =\n",
              "            await google.colab.kernel.invokeFunction('convertToInteractive',\n",
              "                                                     [key], {});\n",
              "          if (!dataTable) return;\n",
              "\n",
              "          const docLinkHtml = 'Like what you see? Visit the ' +\n",
              "            '<a target=\"_blank\" href=https://colab.research.google.com/notebooks/data_table.ipynb>data table notebook</a>'\n",
              "            + ' to learn more about interactive tables.';\n",
              "          element.innerHTML = '';\n",
              "          dataTable['output_type'] = 'display_data';\n",
              "          await google.colab.output.renderOutput(dataTable, element);\n",
              "          const docLink = document.createElement('div');\n",
              "          docLink.innerHTML = docLinkHtml;\n",
              "          element.appendChild(docLink);\n",
              "        }\n",
              "      </script>\n",
              "    </div>\n",
              "  </div>\n",
              "  "
            ]
          },
          "metadata": {},
          "execution_count": 32
        }
      ],
      "source": [
        "## corpus de 2000 noticias (Fake2000), se nombra como df3 ya que tenemos 3 corpus por unir\n",
        "df3"
      ]
    },
    {
      "cell_type": "code",
      "execution_count": null,
      "metadata": {
        "id": "K5rGW5bmspo-",
        "colab": {
          "base_uri": "https://localhost:8080/"
        },
        "outputId": "1f832335-3b6d-44e6-ec4e-f97aef16da48"
      },
      "outputs": [
        {
          "output_type": "execute_result",
          "data": {
            "text/plain": [
              "True     1000\n",
              "False    1000\n",
              "Name: class, dtype: int64"
            ]
          },
          "metadata": {},
          "execution_count": 33
        }
      ],
      "source": [
        "# visualizar la tabla de frecuencias de las categorias. Las etiquetas se encuentran balanceadas.\n",
        "df3['class'].value_counts()"
      ]
    },
    {
      "cell_type": "code",
      "execution_count": null,
      "metadata": {
        "id": "Tvgw_pp1tDO9"
      },
      "outputs": [],
      "source": [
        "# renombramos las columnas para que queden todas con igual nombre, de esta manera se realiza correctamente la concatenación.\n",
        "df3=df3.rename(columns={'class':'Categoria', 'Text':'Texto'})"
      ]
    },
    {
      "cell_type": "code",
      "execution_count": null,
      "metadata": {
        "id": "f7Q16fZ5e_B6"
      },
      "outputs": [],
      "source": [
        "#Dataframe con 500 noticias\n",
        "df_base_cp=df"
      ]
    },
    {
      "cell_type": "code",
      "execution_count": null,
      "metadata": {
        "id": "xzSvrxgzWA0q"
      },
      "outputs": [],
      "source": [
        "#Union de los dos tres corpus\n",
        "df_base=pd.concat([df,df2,df3], axis=0, ignore_index=False)"
      ]
    },
    {
      "cell_type": "code",
      "execution_count": null,
      "metadata": {
        "id": "aFqbIoYWtR9A",
        "colab": {
          "base_uri": "https://localhost:8080/",
          "height": 424
        },
        "outputId": "6f5591ca-fb2d-41ee-9b23-54efbb716f66"
      },
      "outputs": [
        {
          "output_type": "execute_result",
          "data": {
            "text/plain": [
              "         Categoria                                              Texto\n",
              "0     Noticia Real  El presidente Iván Duque condenó fuertemente e...\n",
              "1     Noticia Real  Gustavo Petro se reunirá con Pedro Sánchez, pr...\n",
              "2     Noticia Real  Marta Lucía Ramírez se queja por servicio en e...\n",
              "3     Noticia Real  Elecciones de 2022 requieren mayor cuidado, po...\n",
              "4     Noticia Real  ANTE LA expansión de la variante ómicron en el...\n",
              "...            ...                                                ...\n",
              "1995          True   El Consejo de Gobierno ha dado su visto bueno...\n",
              "1996          True   Investigadores valencianos han desarrollado u...\n",
              "1997          True   Los arrestados actuaban en coches y en establ...\n",
              "1998          True   El Rey ha encargado este miércoles a Pedro Sá...\n",
              "1999          True   Las pruebas realizadas en el Centro Nacional ...\n",
              "\n",
              "[3173 rows x 2 columns]"
            ],
            "text/html": [
              "\n",
              "  <div id=\"df-365ad713-8aec-4313-8f54-700a69fd142a\">\n",
              "    <div class=\"colab-df-container\">\n",
              "      <div>\n",
              "<style scoped>\n",
              "    .dataframe tbody tr th:only-of-type {\n",
              "        vertical-align: middle;\n",
              "    }\n",
              "\n",
              "    .dataframe tbody tr th {\n",
              "        vertical-align: top;\n",
              "    }\n",
              "\n",
              "    .dataframe thead th {\n",
              "        text-align: right;\n",
              "    }\n",
              "</style>\n",
              "<table border=\"1\" class=\"dataframe\">\n",
              "  <thead>\n",
              "    <tr style=\"text-align: right;\">\n",
              "      <th></th>\n",
              "      <th>Categoria</th>\n",
              "      <th>Texto</th>\n",
              "    </tr>\n",
              "  </thead>\n",
              "  <tbody>\n",
              "    <tr>\n",
              "      <th>0</th>\n",
              "      <td>Noticia Real</td>\n",
              "      <td>El presidente Iván Duque condenó fuertemente e...</td>\n",
              "    </tr>\n",
              "    <tr>\n",
              "      <th>1</th>\n",
              "      <td>Noticia Real</td>\n",
              "      <td>Gustavo Petro se reunirá con Pedro Sánchez, pr...</td>\n",
              "    </tr>\n",
              "    <tr>\n",
              "      <th>2</th>\n",
              "      <td>Noticia Real</td>\n",
              "      <td>Marta Lucía Ramírez se queja por servicio en e...</td>\n",
              "    </tr>\n",
              "    <tr>\n",
              "      <th>3</th>\n",
              "      <td>Noticia Real</td>\n",
              "      <td>Elecciones de 2022 requieren mayor cuidado, po...</td>\n",
              "    </tr>\n",
              "    <tr>\n",
              "      <th>4</th>\n",
              "      <td>Noticia Real</td>\n",
              "      <td>ANTE LA expansión de la variante ómicron en el...</td>\n",
              "    </tr>\n",
              "    <tr>\n",
              "      <th>...</th>\n",
              "      <td>...</td>\n",
              "      <td>...</td>\n",
              "    </tr>\n",
              "    <tr>\n",
              "      <th>1995</th>\n",
              "      <td>True</td>\n",
              "      <td>El Consejo de Gobierno ha dado su visto bueno...</td>\n",
              "    </tr>\n",
              "    <tr>\n",
              "      <th>1996</th>\n",
              "      <td>True</td>\n",
              "      <td>Investigadores valencianos han desarrollado u...</td>\n",
              "    </tr>\n",
              "    <tr>\n",
              "      <th>1997</th>\n",
              "      <td>True</td>\n",
              "      <td>Los arrestados actuaban en coches y en establ...</td>\n",
              "    </tr>\n",
              "    <tr>\n",
              "      <th>1998</th>\n",
              "      <td>True</td>\n",
              "      <td>El Rey ha encargado este miércoles a Pedro Sá...</td>\n",
              "    </tr>\n",
              "    <tr>\n",
              "      <th>1999</th>\n",
              "      <td>True</td>\n",
              "      <td>Las pruebas realizadas en el Centro Nacional ...</td>\n",
              "    </tr>\n",
              "  </tbody>\n",
              "</table>\n",
              "<p>3173 rows × 2 columns</p>\n",
              "</div>\n",
              "      <button class=\"colab-df-convert\" onclick=\"convertToInteractive('df-365ad713-8aec-4313-8f54-700a69fd142a')\"\n",
              "              title=\"Convert this dataframe to an interactive table.\"\n",
              "              style=\"display:none;\">\n",
              "        \n",
              "  <svg xmlns=\"http://www.w3.org/2000/svg\" height=\"24px\"viewBox=\"0 0 24 24\"\n",
              "       width=\"24px\">\n",
              "    <path d=\"M0 0h24v24H0V0z\" fill=\"none\"/>\n",
              "    <path d=\"M18.56 5.44l.94 2.06.94-2.06 2.06-.94-2.06-.94-.94-2.06-.94 2.06-2.06.94zm-11 1L8.5 8.5l.94-2.06 2.06-.94-2.06-.94L8.5 2.5l-.94 2.06-2.06.94zm10 10l.94 2.06.94-2.06 2.06-.94-2.06-.94-.94-2.06-.94 2.06-2.06.94z\"/><path d=\"M17.41 7.96l-1.37-1.37c-.4-.4-.92-.59-1.43-.59-.52 0-1.04.2-1.43.59L10.3 9.45l-7.72 7.72c-.78.78-.78 2.05 0 2.83L4 21.41c.39.39.9.59 1.41.59.51 0 1.02-.2 1.41-.59l7.78-7.78 2.81-2.81c.8-.78.8-2.07 0-2.86zM5.41 20L4 18.59l7.72-7.72 1.47 1.35L5.41 20z\"/>\n",
              "  </svg>\n",
              "      </button>\n",
              "      \n",
              "  <style>\n",
              "    .colab-df-container {\n",
              "      display:flex;\n",
              "      flex-wrap:wrap;\n",
              "      gap: 12px;\n",
              "    }\n",
              "\n",
              "    .colab-df-convert {\n",
              "      background-color: #E8F0FE;\n",
              "      border: none;\n",
              "      border-radius: 50%;\n",
              "      cursor: pointer;\n",
              "      display: none;\n",
              "      fill: #1967D2;\n",
              "      height: 32px;\n",
              "      padding: 0 0 0 0;\n",
              "      width: 32px;\n",
              "    }\n",
              "\n",
              "    .colab-df-convert:hover {\n",
              "      background-color: #E2EBFA;\n",
              "      box-shadow: 0px 1px 2px rgba(60, 64, 67, 0.3), 0px 1px 3px 1px rgba(60, 64, 67, 0.15);\n",
              "      fill: #174EA6;\n",
              "    }\n",
              "\n",
              "    [theme=dark] .colab-df-convert {\n",
              "      background-color: #3B4455;\n",
              "      fill: #D2E3FC;\n",
              "    }\n",
              "\n",
              "    [theme=dark] .colab-df-convert:hover {\n",
              "      background-color: #434B5C;\n",
              "      box-shadow: 0px 1px 3px 1px rgba(0, 0, 0, 0.15);\n",
              "      filter: drop-shadow(0px 1px 2px rgba(0, 0, 0, 0.3));\n",
              "      fill: #FFFFFF;\n",
              "    }\n",
              "  </style>\n",
              "\n",
              "      <script>\n",
              "        const buttonEl =\n",
              "          document.querySelector('#df-365ad713-8aec-4313-8f54-700a69fd142a button.colab-df-convert');\n",
              "        buttonEl.style.display =\n",
              "          google.colab.kernel.accessAllowed ? 'block' : 'none';\n",
              "\n",
              "        async function convertToInteractive(key) {\n",
              "          const element = document.querySelector('#df-365ad713-8aec-4313-8f54-700a69fd142a');\n",
              "          const dataTable =\n",
              "            await google.colab.kernel.invokeFunction('convertToInteractive',\n",
              "                                                     [key], {});\n",
              "          if (!dataTable) return;\n",
              "\n",
              "          const docLinkHtml = 'Like what you see? Visit the ' +\n",
              "            '<a target=\"_blank\" href=https://colab.research.google.com/notebooks/data_table.ipynb>data table notebook</a>'\n",
              "            + ' to learn more about interactive tables.';\n",
              "          element.innerHTML = '';\n",
              "          dataTable['output_type'] = 'display_data';\n",
              "          await google.colab.output.renderOutput(dataTable, element);\n",
              "          const docLink = document.createElement('div');\n",
              "          docLink.innerHTML = docLinkHtml;\n",
              "          element.appendChild(docLink);\n",
              "        }\n",
              "      </script>\n",
              "    </div>\n",
              "  </div>\n",
              "  "
            ]
          },
          "metadata": {},
          "execution_count": 37
        }
      ],
      "source": [
        "# visualización de como queda el corpus de 3173 noticias.\n",
        "df_base"
      ]
    },
    {
      "cell_type": "code",
      "execution_count": null,
      "metadata": {
        "id": "KVDsGq6tWHIs",
        "colab": {
          "base_uri": "https://localhost:8080/"
        },
        "outputId": "b8366774-939b-4655-f71f-5e17357d84fd"
      },
      "outputs": [
        {
          "output_type": "execute_result",
          "data": {
            "text/plain": [
              "True             1000\n",
              "False            1000\n",
              "Fake              338\n",
              "True              338\n",
              "Noticia Real      260\n",
              "Noticia Falsa     237\n",
              "Name: Categoria, dtype: int64"
            ]
          },
          "metadata": {},
          "execution_count": 38
        }
      ],
      "source": [
        "# se observa que las clases True estan siendo leidas de forma diferente(problema por resolver)\n",
        "df_base.Categoria.value_counts()"
      ]
    },
    {
      "cell_type": "code",
      "execution_count": null,
      "metadata": {
        "id": "_Z8Oa32T6Wga"
      },
      "outputs": [],
      "source": [
        "# para mitigar temporalmente el error, se exporta el archivo .csv (de esta manera se formatean los datos).\n",
        "df_base.to_csv('salida.csv')"
      ]
    },
    {
      "cell_type": "code",
      "execution_count": null,
      "metadata": {
        "id": "k0F04qK37Au7"
      },
      "outputs": [],
      "source": [
        "# nuevamente se realiza la lectura del corpus (solución temporal)\n",
        "df_base=pd.read_csv('salida.csv')"
      ]
    },
    {
      "cell_type": "code",
      "execution_count": null,
      "metadata": {
        "id": "DtxlFX-h4bmk",
        "colab": {
          "base_uri": "https://localhost:8080/"
        },
        "outputId": "2cb74ac8-2fbf-4b94-fa97-87d8f688beeb"
      },
      "outputs": [
        {
          "output_type": "execute_result",
          "data": {
            "text/plain": [
              "True             1338\n",
              "False            1000\n",
              "Fake              338\n",
              "Noticia Real      260\n",
              "Noticia Falsa     237\n",
              "Name: Categoria, dtype: int64"
            ]
          },
          "metadata": {},
          "execution_count": 41
        }
      ],
      "source": [
        "# Se observa como la categoria True ya fue leida como una sola. Pso siguiente Unificar las categorias.\n",
        "df_base.Categoria.value_counts()"
      ]
    },
    {
      "cell_type": "code",
      "execution_count": null,
      "metadata": {
        "id": "y5ZgOZ_bR-EH",
        "colab": {
          "base_uri": "https://localhost:8080/",
          "height": 424
        },
        "outputId": "556d0e5e-d28a-4133-8a38-c367cffd32f1"
      },
      "outputs": [
        {
          "output_type": "execute_result",
          "data": {
            "text/plain": [
              "      Unnamed: 0     Categoria  \\\n",
              "0              0  Noticia Real   \n",
              "1              1  Noticia Real   \n",
              "2              2  Noticia Real   \n",
              "3              3  Noticia Real   \n",
              "4              4  Noticia Real   \n",
              "...          ...           ...   \n",
              "3168        1995  Noticia Real   \n",
              "3169        1996  Noticia Real   \n",
              "3170        1997  Noticia Real   \n",
              "3171        1998  Noticia Real   \n",
              "3172        1999  Noticia Real   \n",
              "\n",
              "                                                  Texto  \n",
              "0     El presidente Iván Duque condenó fuertemente e...  \n",
              "1     Gustavo Petro se reunirá con Pedro Sánchez, pr...  \n",
              "2     Marta Lucía Ramírez se queja por servicio en e...  \n",
              "3     Elecciones de 2022 requieren mayor cuidado, po...  \n",
              "4     ANTE LA expansión de la variante ómicron en el...  \n",
              "...                                                 ...  \n",
              "3168   El Consejo de Gobierno ha dado su visto bueno...  \n",
              "3169   Investigadores valencianos han desarrollado u...  \n",
              "3170   Los arrestados actuaban en coches y en establ...  \n",
              "3171   El Rey ha encargado este miércoles a Pedro Sá...  \n",
              "3172   Las pruebas realizadas en el Centro Nacional ...  \n",
              "\n",
              "[3173 rows x 3 columns]"
            ],
            "text/html": [
              "\n",
              "  <div id=\"df-0e375dd7-a9a8-479a-8c79-342d021c792c\">\n",
              "    <div class=\"colab-df-container\">\n",
              "      <div>\n",
              "<style scoped>\n",
              "    .dataframe tbody tr th:only-of-type {\n",
              "        vertical-align: middle;\n",
              "    }\n",
              "\n",
              "    .dataframe tbody tr th {\n",
              "        vertical-align: top;\n",
              "    }\n",
              "\n",
              "    .dataframe thead th {\n",
              "        text-align: right;\n",
              "    }\n",
              "</style>\n",
              "<table border=\"1\" class=\"dataframe\">\n",
              "  <thead>\n",
              "    <tr style=\"text-align: right;\">\n",
              "      <th></th>\n",
              "      <th>Unnamed: 0</th>\n",
              "      <th>Categoria</th>\n",
              "      <th>Texto</th>\n",
              "    </tr>\n",
              "  </thead>\n",
              "  <tbody>\n",
              "    <tr>\n",
              "      <th>0</th>\n",
              "      <td>0</td>\n",
              "      <td>Noticia Real</td>\n",
              "      <td>El presidente Iván Duque condenó fuertemente e...</td>\n",
              "    </tr>\n",
              "    <tr>\n",
              "      <th>1</th>\n",
              "      <td>1</td>\n",
              "      <td>Noticia Real</td>\n",
              "      <td>Gustavo Petro se reunirá con Pedro Sánchez, pr...</td>\n",
              "    </tr>\n",
              "    <tr>\n",
              "      <th>2</th>\n",
              "      <td>2</td>\n",
              "      <td>Noticia Real</td>\n",
              "      <td>Marta Lucía Ramírez se queja por servicio en e...</td>\n",
              "    </tr>\n",
              "    <tr>\n",
              "      <th>3</th>\n",
              "      <td>3</td>\n",
              "      <td>Noticia Real</td>\n",
              "      <td>Elecciones de 2022 requieren mayor cuidado, po...</td>\n",
              "    </tr>\n",
              "    <tr>\n",
              "      <th>4</th>\n",
              "      <td>4</td>\n",
              "      <td>Noticia Real</td>\n",
              "      <td>ANTE LA expansión de la variante ómicron en el...</td>\n",
              "    </tr>\n",
              "    <tr>\n",
              "      <th>...</th>\n",
              "      <td>...</td>\n",
              "      <td>...</td>\n",
              "      <td>...</td>\n",
              "    </tr>\n",
              "    <tr>\n",
              "      <th>3168</th>\n",
              "      <td>1995</td>\n",
              "      <td>Noticia Real</td>\n",
              "      <td>El Consejo de Gobierno ha dado su visto bueno...</td>\n",
              "    </tr>\n",
              "    <tr>\n",
              "      <th>3169</th>\n",
              "      <td>1996</td>\n",
              "      <td>Noticia Real</td>\n",
              "      <td>Investigadores valencianos han desarrollado u...</td>\n",
              "    </tr>\n",
              "    <tr>\n",
              "      <th>3170</th>\n",
              "      <td>1997</td>\n",
              "      <td>Noticia Real</td>\n",
              "      <td>Los arrestados actuaban en coches y en establ...</td>\n",
              "    </tr>\n",
              "    <tr>\n",
              "      <th>3171</th>\n",
              "      <td>1998</td>\n",
              "      <td>Noticia Real</td>\n",
              "      <td>El Rey ha encargado este miércoles a Pedro Sá...</td>\n",
              "    </tr>\n",
              "    <tr>\n",
              "      <th>3172</th>\n",
              "      <td>1999</td>\n",
              "      <td>Noticia Real</td>\n",
              "      <td>Las pruebas realizadas en el Centro Nacional ...</td>\n",
              "    </tr>\n",
              "  </tbody>\n",
              "</table>\n",
              "<p>3173 rows × 3 columns</p>\n",
              "</div>\n",
              "      <button class=\"colab-df-convert\" onclick=\"convertToInteractive('df-0e375dd7-a9a8-479a-8c79-342d021c792c')\"\n",
              "              title=\"Convert this dataframe to an interactive table.\"\n",
              "              style=\"display:none;\">\n",
              "        \n",
              "  <svg xmlns=\"http://www.w3.org/2000/svg\" height=\"24px\"viewBox=\"0 0 24 24\"\n",
              "       width=\"24px\">\n",
              "    <path d=\"M0 0h24v24H0V0z\" fill=\"none\"/>\n",
              "    <path d=\"M18.56 5.44l.94 2.06.94-2.06 2.06-.94-2.06-.94-.94-2.06-.94 2.06-2.06.94zm-11 1L8.5 8.5l.94-2.06 2.06-.94-2.06-.94L8.5 2.5l-.94 2.06-2.06.94zm10 10l.94 2.06.94-2.06 2.06-.94-2.06-.94-.94-2.06-.94 2.06-2.06.94z\"/><path d=\"M17.41 7.96l-1.37-1.37c-.4-.4-.92-.59-1.43-.59-.52 0-1.04.2-1.43.59L10.3 9.45l-7.72 7.72c-.78.78-.78 2.05 0 2.83L4 21.41c.39.39.9.59 1.41.59.51 0 1.02-.2 1.41-.59l7.78-7.78 2.81-2.81c.8-.78.8-2.07 0-2.86zM5.41 20L4 18.59l7.72-7.72 1.47 1.35L5.41 20z\"/>\n",
              "  </svg>\n",
              "      </button>\n",
              "      \n",
              "  <style>\n",
              "    .colab-df-container {\n",
              "      display:flex;\n",
              "      flex-wrap:wrap;\n",
              "      gap: 12px;\n",
              "    }\n",
              "\n",
              "    .colab-df-convert {\n",
              "      background-color: #E8F0FE;\n",
              "      border: none;\n",
              "      border-radius: 50%;\n",
              "      cursor: pointer;\n",
              "      display: none;\n",
              "      fill: #1967D2;\n",
              "      height: 32px;\n",
              "      padding: 0 0 0 0;\n",
              "      width: 32px;\n",
              "    }\n",
              "\n",
              "    .colab-df-convert:hover {\n",
              "      background-color: #E2EBFA;\n",
              "      box-shadow: 0px 1px 2px rgba(60, 64, 67, 0.3), 0px 1px 3px 1px rgba(60, 64, 67, 0.15);\n",
              "      fill: #174EA6;\n",
              "    }\n",
              "\n",
              "    [theme=dark] .colab-df-convert {\n",
              "      background-color: #3B4455;\n",
              "      fill: #D2E3FC;\n",
              "    }\n",
              "\n",
              "    [theme=dark] .colab-df-convert:hover {\n",
              "      background-color: #434B5C;\n",
              "      box-shadow: 0px 1px 3px 1px rgba(0, 0, 0, 0.15);\n",
              "      filter: drop-shadow(0px 1px 2px rgba(0, 0, 0, 0.3));\n",
              "      fill: #FFFFFF;\n",
              "    }\n",
              "  </style>\n",
              "\n",
              "      <script>\n",
              "        const buttonEl =\n",
              "          document.querySelector('#df-0e375dd7-a9a8-479a-8c79-342d021c792c button.colab-df-convert');\n",
              "        buttonEl.style.display =\n",
              "          google.colab.kernel.accessAllowed ? 'block' : 'none';\n",
              "\n",
              "        async function convertToInteractive(key) {\n",
              "          const element = document.querySelector('#df-0e375dd7-a9a8-479a-8c79-342d021c792c');\n",
              "          const dataTable =\n",
              "            await google.colab.kernel.invokeFunction('convertToInteractive',\n",
              "                                                     [key], {});\n",
              "          if (!dataTable) return;\n",
              "\n",
              "          const docLinkHtml = 'Like what you see? Visit the ' +\n",
              "            '<a target=\"_blank\" href=https://colab.research.google.com/notebooks/data_table.ipynb>data table notebook</a>'\n",
              "            + ' to learn more about interactive tables.';\n",
              "          element.innerHTML = '';\n",
              "          dataTable['output_type'] = 'display_data';\n",
              "          await google.colab.output.renderOutput(dataTable, element);\n",
              "          const docLink = document.createElement('div');\n",
              "          docLink.innerHTML = docLinkHtml;\n",
              "          element.appendChild(docLink);\n",
              "        }\n",
              "      </script>\n",
              "    </div>\n",
              "  </div>\n",
              "  "
            ]
          },
          "metadata": {},
          "execution_count": 42
        }
      ],
      "source": [
        "# cambiar el nombre de la categoria para dejar el corpus uniforme: Fake=Noticia Falsa, True=Noticia Real\n",
        "df_base[\"Categoria\"]=df_base[\"Categoria\"].apply(change_categories)\n",
        "df_base"
      ]
    },
    {
      "cell_type": "code",
      "execution_count": null,
      "metadata": {
        "id": "Eh4N4XDysDyZ",
        "colab": {
          "base_uri": "https://localhost:8080/"
        },
        "outputId": "b2cd6ee2-6ac9-49d6-839f-3a9331c20aee"
      },
      "outputs": [
        {
          "output_type": "execute_result",
          "data": {
            "text/plain": [
              "Noticia Real     1598\n",
              "Noticia Falsa    1575\n",
              "Name: Categoria, dtype: int64"
            ]
          },
          "metadata": {},
          "execution_count": 43
        }
      ],
      "source": [
        "# Conteo del numero de noticias falsas y verdaderas. Se observa que ahora si quedaron balanceadas.\n",
        "df_base.Categoria.value_counts()"
      ]
    },
    {
      "cell_type": "code",
      "execution_count": null,
      "metadata": {
        "id": "KNvLsFvuSQBi"
      },
      "outputs": [],
      "source": [
        "#Dataframe con 1000 noticias - Union Corpus JM y Posadas-Duran\n",
        "df_merge=df_base"
      ]
    },
    {
      "cell_type": "markdown",
      "metadata": {
        "id": "Etxp0gcb0Cn3"
      },
      "source": [
        "#**Preprocesamiento**"
      ]
    },
    {
      "cell_type": "markdown",
      "metadata": {
        "id": "ss8bHjlw0JuD"
      },
      "source": [
        "Tareas de pre-procesamiento a realizar:\n",
        "* Convertir Mayusculas a minusculas\n",
        "* Remover links\n",
        "* Remover números\n",
        "* Remover signos de puntuación\n",
        "* Remover tildes\n",
        "* Remover comillas\n",
        "* Remover retornos y lineas nuevas\n",
        "* Remover StopWords\n",
        "* Lematización"
      ]
    },
    {
      "cell_type": "markdown",
      "metadata": {
        "id": "hOSOIHYhgB-O"
      },
      "source": [
        "### **Preprocesamiento Corpus del proyecto**"
      ]
    },
    {
      "cell_type": "code",
      "execution_count": null,
      "metadata": {
        "id": "GKxFDLbsfN5P"
      },
      "outputs": [],
      "source": [
        "#Preprocesamiento Corpus 500 noticias\n",
        "List_News = df_base_cp['Texto'].to_list()\n",
        "Final_News = []\n",
        "Complete_Content = []\n",
        "for news in tqdm(List_News):\n",
        "    Processed_Content = text_preprocessing(news)\n",
        "    Final_News.append(Processed_Content)\n",
        "Complete_Content.extend(Final_News)\n",
        "df_base_cp['Processed_Text'] = Complete_Content"
      ]
    },
    {
      "cell_type": "markdown",
      "metadata": {
        "id": "78EjieTzgP7J"
      },
      "source": [
        "### **Preprocesamiento Corpus Unido**"
      ]
    },
    {
      "cell_type": "code",
      "execution_count": null,
      "metadata": {
        "id": "SCaz6EPWv2ud"
      },
      "outputs": [],
      "source": [
        "#Preprocesamiento Corpus 1000 noticias\n",
        "List_News = df_merge['Texto'].to_list()\n",
        "Final_News = []\n",
        "Complete_Content = []\n",
        "for news in tqdm(List_News):\n",
        "    Processed_Content = text_preprocessing(news)\n",
        "    Final_News.append(Processed_Content)\n",
        "Complete_Content.extend(Final_News)\n",
        "df_merge['Processed_Text'] = Complete_Content"
      ]
    },
    {
      "cell_type": "code",
      "execution_count": null,
      "metadata": {
        "id": "T5ToOf_rD5SU"
      },
      "outputs": [],
      "source": [
        "df_merge.Texto.iloc[1093]"
      ]
    },
    {
      "cell_type": "code",
      "execution_count": null,
      "metadata": {
        "id": "3q7NhlDGj4k1"
      },
      "outputs": [],
      "source": [
        "a=\"Carlos Trejo producirá, dirigirá y protagonizará la versión mexicana de Los Cazafantasmas México.- El investigador de fenómenos paranormales, Carlos Trejo, anunció que en mayo iniciará el rodaje de la versión mexicana de la película \\\"Los Cazafantasmas\\\", cinta que él producirá, dirigirá y protagonizará junto con otros reconocidos actores nacionales.\\nTrejo mencionó que –a diferencia del film original- su película tratará el tema de los fantasmas de manera seria y respetuosa, y no con las \\\"payasadas\\\" de la versión americana:\\n\\\"Como ya todos saben yo estuve a punto de morir por culpa de un espectro del más allá que atormentó a mi familia cuando vivíamos en Cañitas. Las situaciones paranormales son un tema serio y delicado, me parece una grosería que Hollywood saque una película bufándose de esta terrible situación, eso demuestra que no les importa hacer cine de calidad, prefieren producir películas tontas y huecas con tal de llenarse los bolsillos de dinero en vez de realizar cine de calidad\\\", señaló.\\nCarlos mencionó que no es uh novato en el cine ya que su libro \\\"Cañitas\\\" fue adaptado a la pantalla grande en el *NUMBER*:\\n\\\"Siempre tuve la espinita de producir películas de calidad para engrandecer a nuestro nacional. Ahora que Hollywood va a estrenar la versión femenina de los Cazafantasmas quise producir la versión mexicana para demostrarles que nuestro cine tiene muchísima mejor calidad y es más profundo. Quiero hacer de esta película toda una obra de arte\\\", señaló.\\nTrejo mencionó que su película será un drama y no comedia, además de que los cazafantasmas de su film intentarán atrapar espectros reales que él ha conocido:\\n\\\"Los fantasmas que verán en mi cinta serán fantasmas reales con los que he convivido a través de los años. Mi película será una especie de documental que le mostrará al mundo que no estamos solos y que estos espectros son peligrosos, pero que afortunadamente hay personas como yo que estamos dispuesto a dar la vida con tal de controlarlos para que no dañen al mundo\\\", señaló.\\nPor último, Trejo confirmó que el grupo de cazafantamas mexicanos estará integrado (además de él) por los actores Adrián Uribe, Omar Chaparro, Martha Higareda (la única mujer en el grupo) y el investigador en fenómenos extraterrestres Jaime Maussan, con quien recientemente hizo las pases.\"\n",
        "b=unidecode.unidecode(a,'utf-8')\n",
        "c=remove_special_characters(b)\n",
        "d=remove_stopwords(c)\n",
        "d\n"
      ]
    },
    {
      "cell_type": "code",
      "execution_count": null,
      "metadata": {
        "id": "hB0GDM3KfW_P"
      },
      "outputs": [],
      "source": [
        "df_base_cp.Processed_Text.iloc[400]"
      ]
    },
    {
      "cell_type": "code",
      "execution_count": null,
      "metadata": {
        "id": "edbt0w1XEEmS"
      },
      "outputs": [],
      "source": [
        "df_merge.Processed_Text.iloc[200]"
      ]
    },
    {
      "cell_type": "code",
      "execution_count": null,
      "metadata": {
        "id": "-I8CikMGEOFZ"
      },
      "outputs": [],
      "source": [
        "df_merge.Processed_Text.iloc[1000]"
      ]
    },
    {
      "cell_type": "code",
      "execution_count": null,
      "metadata": {
        "id": "LzPovZ0_fRF1"
      },
      "outputs": [],
      "source": [
        "df_merge.Processed_Text.iloc[1093]"
      ]
    },
    {
      "cell_type": "markdown",
      "metadata": {
        "id": "yGcCJlyDpOtP"
      },
      "source": [
        "###**División del Corpus - Noticias Falsas y Verdaderas**"
      ]
    },
    {
      "cell_type": "code",
      "execution_count": null,
      "metadata": {
        "id": "uNjmGVd0pGrj"
      },
      "outputs": [],
      "source": [
        "#División Dataframe Corpus de referencia\n",
        "real_news = df_merge[df_merge['Categoria'] == 'Noticia Real']\n",
        "fake_news = df_merge[df_merge['Categoria'] == 'Noticia Falsa']"
      ]
    },
    {
      "cell_type": "code",
      "execution_count": null,
      "metadata": {
        "id": "lReFwds_pHap"
      },
      "outputs": [],
      "source": [
        "#División Dataframe Corpus creado\n",
        "real_news_cp=df_base_cp[df_base_cp['Categoria'] == 'Noticia Real']\n",
        "fake_news_cp = df_base_cp[df_base_cp['Categoria'] == 'Noticia Falsa']"
      ]
    },
    {
      "cell_type": "markdown",
      "metadata": {
        "id": "KmMqW1JJblm2"
      },
      "source": [
        "# **Analitica Descriptiva**"
      ]
    },
    {
      "cell_type": "markdown",
      "metadata": {
        "id": "YBygxVICJOWe"
      },
      "source": [
        "## **Analitica Corpus Propio**"
      ]
    },
    {
      "cell_type": "markdown",
      "metadata": {
        "id": "YOK6gikwqc9j"
      },
      "source": [
        "###**Histograma de categorias**"
      ]
    },
    {
      "cell_type": "code",
      "execution_count": null,
      "metadata": {
        "id": "51YZ8i6dmBTp"
      },
      "outputs": [],
      "source": [
        "# Distribución de noticias falsas y verdaderas Corpus 500 noticias\n",
        "ax = sns.countplot(x=\"Categoria\", data=df_base_cp)"
      ]
    },
    {
      "cell_type": "markdown",
      "metadata": {
        "id": "C4i-xjsbmjet"
      },
      "source": [
        "### Word Cloud Real News Corpus Propio"
      ]
    },
    {
      "cell_type": "code",
      "execution_count": null,
      "metadata": {
        "id": "tuqxHnZPmjeu"
      },
      "outputs": [],
      "source": [
        "#Wordcloud 500 Noticias reales\n",
        "wc = WordCloud(background_color=\"white\", max_words=3000, width=800, height=400,stopwords=stoplist)\n",
        "wc.generate(' '.join(real_news_cp['Processed_Text']))\n",
        "plt.figure(figsize=(20, 15))\n",
        "plt.title(\"Word Cloud Real News\", fontsize=20,color='blue')\n",
        "plt.imshow(wc, interpolation='bilinear')\n",
        "plt.axis(\"off\")\n",
        "plt.show()"
      ]
    },
    {
      "cell_type": "markdown",
      "metadata": {
        "id": "Dh92VMq4mKYF"
      },
      "source": [
        "### Word Cloud Fake News Corpus Propio"
      ]
    },
    {
      "cell_type": "code",
      "execution_count": null,
      "metadata": {
        "id": "KyYmyEcbmKYF"
      },
      "outputs": [],
      "source": [
        "#Wordcloud 500 noticias falsas\n",
        "wc = WordCloud(background_color=\"white\", max_words=2000, width=800, height=400,stopwords=stoplist)\n",
        "wc.generate(' '.join(fake_news_cp['Processed_Text']))\n",
        "plt.figure(figsize=(20, 15))\n",
        "plt.title(\"Word Cloud Fake News\", fontsize=20,color='blue')\n",
        "plt.imshow(wc, interpolation='bilinear')\n",
        "plt.axis(\"off\")\n",
        "plt.show()"
      ]
    },
    {
      "cell_type": "markdown",
      "metadata": {
        "id": "z3Od4TOTeh31"
      },
      "source": [
        "## **Analitica Corpus Unido**"
      ]
    },
    {
      "cell_type": "markdown",
      "metadata": {
        "id": "cCsPUqSLqOhk"
      },
      "source": [
        "###**Histograma de categorias**"
      ]
    },
    {
      "cell_type": "code",
      "execution_count": null,
      "metadata": {
        "id": "k87ZqYPvpksJ"
      },
      "outputs": [],
      "source": [
        "# Distribución de noticias falsas y verdaderas Corpus 1000 noticias\n",
        "ax = sns.countplot(x=\"Categoria\", data=df_merge)"
      ]
    },
    {
      "cell_type": "markdown",
      "metadata": {
        "id": "Zw8xPQS2bsii"
      },
      "source": [
        "### Word Cloud Fake News Corpus Unido"
      ]
    },
    {
      "cell_type": "code",
      "execution_count": null,
      "metadata": {
        "id": "tLsjoH_rNVch"
      },
      "outputs": [],
      "source": [
        "#Wordcloud 1000 noticias falsas\n",
        "wc = WordCloud(background_color=\"white\", max_words=2000, width=800, height=400,stopwords=stoplist)\n",
        "wc.generate(' '.join(fake_news['Processed_Text']))\n",
        "plt.figure(figsize=(20, 15))\n",
        "plt.title(\"Word Cloud Fake News\", fontsize=20,color='blue')\n",
        "plt.imshow(wc, interpolation='bilinear')\n",
        "plt.axis(\"off\")\n",
        "plt.show()"
      ]
    },
    {
      "cell_type": "markdown",
      "metadata": {
        "id": "IqxC2MOQKP7m"
      },
      "source": [
        "### Word Cloud Real News Corpus Unido"
      ]
    },
    {
      "cell_type": "code",
      "execution_count": null,
      "metadata": {
        "id": "hl-1JG4GKP7s"
      },
      "outputs": [],
      "source": [
        "#Wordcloud 1000 Noticias reales\n",
        "wc = WordCloud(background_color=\"white\", max_words=3000, width=800, height=400,stopwords=stoplist)\n",
        "wc.generate(' '.join(real_news['Processed_Text']))\n",
        "plt.figure(figsize=(20, 15))\n",
        "plt.title(\"Word Cloud Real News\", fontsize=20,color='blue')\n",
        "plt.imshow(wc, interpolation='bilinear')\n",
        "plt.axis(\"off\")\n",
        "plt.show()"
      ]
    },
    {
      "cell_type": "markdown",
      "metadata": {
        "id": "9BaWi8kPkMGT"
      },
      "source": [
        "# **Modelamiento**"
      ]
    },
    {
      "cell_type": "markdown",
      "metadata": {
        "id": "7H_yE-1-mUWD"
      },
      "source": [
        "## Codificación de etiquetas"
      ]
    },
    {
      "cell_type": "code",
      "execution_count": null,
      "metadata": {
        "id": "jaz3-fo7kfaV"
      },
      "outputs": [],
      "source": [
        "category_codes = {\n",
        "     'Noticia Real': 0,\n",
        "    'Noticia Falsa': 1\n",
        "}"
      ]
    },
    {
      "cell_type": "code",
      "execution_count": null,
      "metadata": {
        "id": "kRnEu78Vffn0"
      },
      "outputs": [],
      "source": [
        "df_merge['Codigo'] = df_merge['Categoria']\n",
        "df_merge = df_merge.replace({'Codigo':category_codes})"
      ]
    },
    {
      "cell_type": "code",
      "execution_count": null,
      "metadata": {
        "id": "IZoBiarzks9G"
      },
      "outputs": [],
      "source": [
        "df_base_cp['Codigo'] = df_base_cp['Categoria']\n",
        "df_base_cp = df_base_cp.replace({'Codigo':category_codes})"
      ]
    },
    {
      "cell_type": "markdown",
      "metadata": {
        "id": "thMYnHYWpRjd"
      },
      "source": [
        "## División de datos"
      ]
    },
    {
      "cell_type": "markdown",
      "metadata": {
        "id": "bs2FoWjVMAHr"
      },
      "source": [
        "Se realiza el particionamiento de los datos en prueba y validación."
      ]
    },
    {
      "cell_type": "code",
      "execution_count": null,
      "metadata": {
        "id": "y2ckh3OSm5cB"
      },
      "outputs": [],
      "source": [
        "#Division de datos - Corpus propio\n",
        "X_train_cp, X_test_cp, y_train_cp, y_test_cp = train_test_split(df_base_cp['Processed_Text'], \n",
        "                                                    df_base_cp['Codigo'], \n",
        "                                                    test_size=0.20, \n",
        "                                                    random_state=8)"
      ]
    },
    {
      "cell_type": "code",
      "execution_count": null,
      "metadata": {
        "id": "K8pzf57EpWyF"
      },
      "outputs": [],
      "source": [
        "#Division de datos - Corpus de referencia + Corpus creado = 1000 noticias\n",
        "X_train, X_test, y_train, y_test = train_test_split(df_merge['Processed_Text'], \n",
        "                                                    df_merge['Codigo'], \n",
        "                                                    test_size=0.20, \n",
        "                                                    random_state=8)"
      ]
    },
    {
      "cell_type": "markdown",
      "metadata": {
        "id": "p7-IVSq4rFLe"
      },
      "source": [
        "## **Representación del texto**"
      ]
    },
    {
      "cell_type": "markdown",
      "metadata": {
        "id": "NTkyRYgYMr58"
      },
      "source": [
        "La representación del texto se realiza con sklearn mediante la técnica Tfidf parametrizado con unigramas y bigramas del texto"
      ]
    },
    {
      "cell_type": "markdown",
      "metadata": {
        "id": "CuShJS9uMUBs"
      },
      "source": [
        "![imagen.png](data:image/png;base64,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)"
      ]
    },
    {
      "cell_type": "markdown",
      "metadata": {
        "id": "TcxNOPzQQM7b"
      },
      "source": [
        "**ngram_range ** tuple (min_n, max_n) default=(1,1): Representa el limite inferior y superior para los n-grams en la extracción del texto ngram_range=(1,2) representa unigrams y bigrams a aplicarse\n",
        "\n",
        "**max_df** parametros para ignorar terminos demasiado frecuentes que superan el umbral. ejm: max_df = 0.50 means \"ignore terms that appear in more than 50% of the documents\".\n",
        "\n",
        "**min_df** parametros para ignorar terminos no frecuentes y que superen un umbral. ejm: min_df = 0.01 means \"ignore terms that appear in less than 1% of the documents\".\n",
        "\n",
        "**max_features:** crea un vocabulario que solo tenga el top max_features ordenadas por frecuencia de términos en todo el corpus.\n",
        "\n",
        "fuente: https://scikit-learn.org/stable/modules/generated/sklearn.feature_extraction.text.TfidfVectorizer.html\n"
      ]
    },
    {
      "cell_type": "code",
      "execution_count": null,
      "metadata": {
        "id": "wrJVPreGrG9M"
      },
      "outputs": [],
      "source": [
        "# Eleccion de parametros\n",
        "ngram_range = (1,3) # unigrams, bigrams, trigrams\n",
        "min_df = 0.001 # se eliminan los terminos poco frecuentes que aparezcan como minimo en el 0.1% de los documentos\n",
        "max_df = 0.8 # se eliminan los terminos demaciado frecuentes que aparezcan en almenos el 80% de los documentos (similar a stopwords).\n",
        "max_features = 300 # "
      ]
    },
    {
      "cell_type": "code",
      "execution_count": null,
      "metadata": {
        "id": "EafcQoxosMiI"
      },
      "outputs": [],
      "source": [
        "# Corpus Propio\n",
        "features_train_cp,features_test_cp,labels_train_cp,labels_test_cp,tfidf_cp=tifdf_features(X_train_cp, X_test_cp, y_train_cp, y_test_cp,ngram_range,max_df,min_df,max_features)"
      ]
    },
    {
      "cell_type": "code",
      "execution_count": null,
      "metadata": {
        "id": "qPmlp982nfvP"
      },
      "outputs": [],
      "source": [
        "# Corpus Unido\n",
        "features_train,features_test,labels_train,labels_test,tfidf=tifdf_features(X_train, X_test, y_train, y_test,ngram_range,max_df,min_df,max_features)"
      ]
    },
    {
      "cell_type": "code",
      "execution_count": null,
      "metadata": {
        "id": "PmM67sgQjR6x"
      },
      "outputs": [],
      "source": [
        "print(features_train_cp.shape)\n",
        "print(features_train.shape)"
      ]
    },
    {
      "cell_type": "code",
      "execution_count": null,
      "metadata": {
        "id": "gJzkWiZeytSZ"
      },
      "outputs": [],
      "source": [
        "count_values = features_train.toarray().sum(axis=0)\n",
        "# list of ngrams\n",
        "vocab = tfidf.vocabulary_\n",
        "df_ngram = pd.DataFrame(sorted([(count_values[i],k) for k,i in vocab.items()], reverse=True)\n",
        "            ).rename(columns={0: 'frequency', 1:'bigram/trigram'})\n",
        "df_ngram"
      ]
    },
    {
      "cell_type": "markdown",
      "metadata": {
        "id": "YxrIyUT6vt8W"
      },
      "source": [
        "## Modelos de clasificación"
      ]
    },
    {
      "cell_type": "markdown",
      "metadata": {
        "id": "vEsuv40vEbMs"
      },
      "source": [
        "Metricas de evaluación"
      ]
    },
    {
      "cell_type": "markdown",
      "metadata": {
        "id": "cyYCrL8-EL-l"
      },
      "source": [
        "![MicrosoftTeams-image.png](data:image/png;base64,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)"
      ]
    },
    {
      "cell_type": "markdown",
      "metadata": {
        "id": "dLiv8iZoxobV"
      },
      "source": [
        "### **RandomForestClassifier**\n"
      ]
    },
    {
      "cell_type": "code",
      "execution_count": null,
      "metadata": {
        "id": "ubtS5lIYvYzX"
      },
      "outputs": [],
      "source": [
        "# n_estimators\n",
        "n_estimators = [int(x) for x in np.linspace(start = 200, stop = 1000, num = 5)]\n",
        "\n",
        "# max_features\n",
        "max_features = ['auto', 'sqrt']\n",
        "\n",
        "# max_depth\n",
        "max_depth = [int(x) for x in np.linspace(20, 100, num = 5)]\n",
        "max_depth.append(None)\n",
        "\n",
        "# min_samples_split\n",
        "min_samples_split = [2, 5, 10]\n",
        "\n",
        "# min_samples_leaf\n",
        "min_samples_leaf = [1, 2, 4]\n",
        "\n",
        "# bootstrap\n",
        "bootstrap = [True, False]\n",
        "\n",
        "# Create the random grid\n",
        "hyperparameters_tuning = {'n_estimators': n_estimators,\n",
        "               'max_features': max_features,\n",
        "               'max_depth': max_depth,\n",
        "               'min_samples_split': min_samples_split,\n",
        "               'min_samples_leaf': min_samples_leaf,\n",
        "               'bootstrap': bootstrap}\n",
        "\n",
        "pprint(hyperparameters_tuning)"
      ]
    },
    {
      "cell_type": "markdown",
      "metadata": {
        "id": "GQRgm7-mssnu"
      },
      "source": [
        "#### **RandomForest Classifier - Corpus del proyecto**"
      ]
    },
    {
      "cell_type": "code",
      "execution_count": null,
      "metadata": {
        "id": "lrCn_NmqoGma"
      },
      "outputs": [],
      "source": [
        "%%time\n",
        "# First create the base model to tune\n",
        "rfc = RandomForestClassifier(random_state=8)\n",
        "\n",
        "# Definition of the random search\n",
        "random_search_cp = RandomizedSearchCV(estimator=rfc,\n",
        "                                   param_distributions=hyperparameters_tuning,\n",
        "                                   n_iter=10,\n",
        "                                   scoring='accuracy',\n",
        "                                   cv=3, \n",
        "                                   verbose=1, \n",
        "                                   random_state=8)\n",
        "\n",
        "# Fit the random search model\n",
        "random_search_cp.fit(features_train_cp, labels_train_cp)\n",
        "print(\"The best hyperparameters from Random Search are:\")\n",
        "print(random_search_cp.best_params_)\n",
        "print(\"\")\n",
        "print(\"The mean accuracy of a model with these hyperparameters is:\")\n",
        "print(random_search_cp.best_score_)"
      ]
    },
    {
      "cell_type": "code",
      "execution_count": null,
      "metadata": {
        "id": "AGH0xrIBtwuZ"
      },
      "outputs": [],
      "source": [
        "# se entrena el modelo con los parametros encontrados en la busqueda aleatoria.\n",
        "clf_cp = RandomForestClassifier(n_estimators=1000, min_samples_split=2,min_samples_leaf=2, max_features='auto', max_depth=None, bootstrap=True)\n",
        "clf_cp.fit(features_train_cp, labels_train_cp)\n",
        "clf_predict_cp = clf_cp.predict(features_test_cp)"
      ]
    },
    {
      "cell_type": "code",
      "execution_count": null,
      "metadata": {
        "id": "udmuXZwEt0Ef"
      },
      "outputs": [],
      "source": [
        "# Matrix de confunsión 500 noticias\n",
        "sns.set(rc={'figure.figsize':(7,7)})\n",
        "class_names=['Noticias Falsa','Noticias verdadera']\n",
        "matrix=confusion_matrix(labels_test_cp, clf_predict_cp)\n",
        "# create dataframe\n",
        "dataframe_graf=pd.DataFrame(matrix, index=class_names, columns=class_names)\n",
        "# create headmap\n",
        "sns.heatmap(dataframe_graf, annot=True, cbar=None, cmap=\"Blues\")\n",
        "plt.title(\"Confusion Matrix\")\n",
        "plt.xlabel(\"Verdadero\")\n",
        "plt.ylabel(\"Predicted\")"
      ]
    },
    {
      "cell_type": "code",
      "execution_count": null,
      "metadata": {
        "id": "rs2JgBvit4MA"
      },
      "outputs": [],
      "source": [
        "accuracy_randomforest_cp=accuracy_score(labels_test_cp, clf_predict_cp)\n",
        "print(\"Accuracy Corpus propio\",accuracy_randomforest_cp)"
      ]
    },
    {
      "cell_type": "code",
      "execution_count": null,
      "metadata": {
        "id": "9yY0eOAXt4u4"
      },
      "outputs": [],
      "source": [
        "clf_predict_proba_cp = clf_cp.predict_proba(features_test_cp)\n",
        "skplt.metrics.plot_roc_curve(labels_test_cp, clf_predict_proba_cp)\n",
        "plt.show()"
      ]
    },
    {
      "cell_type": "code",
      "execution_count": null,
      "metadata": {
        "id": "PMOunwObt74H"
      },
      "outputs": [],
      "source": [
        "skplt.metrics.plot_precision_recall(labels_test_cp,clf_predict_proba_cp)"
      ]
    },
    {
      "cell_type": "markdown",
      "metadata": {
        "id": "oxpyJlk4tNeU"
      },
      "source": [
        "#### **RandomForest Classifier - Corpus Unido**"
      ]
    },
    {
      "cell_type": "code",
      "execution_count": null,
      "metadata": {
        "id": "iznZ1aDw1rft"
      },
      "outputs": [],
      "source": [
        "%%time\n",
        "# First create the base model to tune\n",
        "rfc = RandomForestClassifier(random_state=8)\n",
        "\n",
        "# Definition of the random search\n",
        "random_search = RandomizedSearchCV(estimator=rfc,\n",
        "                                   param_distributions=hyperparameters_tuning,\n",
        "                                   n_iter=10,\n",
        "                                   scoring='accuracy',\n",
        "                                   cv=3, \n",
        "                                   verbose=1, \n",
        "                                   random_state=8)\n",
        "\n",
        "# Fit the random search model\n",
        "random_search.fit(features_train, labels_train)\n",
        "print(\"The best hyperparameters from Random Search are:\")\n",
        "print(random_search.best_params_)\n",
        "print(\"\")\n",
        "print(\"The mean accuracy of a model with these hyperparameters is:\")\n",
        "print(random_search.best_score_)"
      ]
    },
    {
      "cell_type": "code",
      "execution_count": null,
      "metadata": {
        "id": "zLdhSuQm237l"
      },
      "outputs": [],
      "source": [
        "# se entrena el modelo con los parametros encontrados en la busqueda aleatoria.\n",
        "clf = RandomForestClassifier(n_estimators=1000, min_samples_split=2,min_samples_leaf=1, max_features='auto', max_depth=80, bootstrap=True)\n",
        "clf.fit(features_train, labels_train)\n",
        "clf_predict = clf.predict(features_test)"
      ]
    },
    {
      "cell_type": "code",
      "execution_count": null,
      "metadata": {
        "id": "Mw_s2oTC5k-q"
      },
      "outputs": [],
      "source": [
        "# Matrix de confunsión 1000 noticias\n",
        "sns.set(rc={'figure.figsize':(7,7)})\n",
        "class_names=['Noticias Falsa','Noticias verdadera']\n",
        "matrix=confusion_matrix(labels_test, clf_predict)\n",
        "# create dataframe\n",
        "dataframe_graf=pd.DataFrame(matrix, index=class_names, columns=class_names)\n",
        "# create headmap\n",
        "sns.heatmap(dataframe_graf, annot=True, cbar=None, cmap=\"Blues\")\n",
        "plt.title(\"Confusion Matrix\")\n",
        "plt.xlabel(\"Verdadero\")\n",
        "plt.ylabel(\"Predicted\")"
      ]
    },
    {
      "cell_type": "code",
      "execution_count": null,
      "metadata": {
        "id": "OBnko4BNEyo4"
      },
      "outputs": [],
      "source": [
        "dataframe_graf"
      ]
    },
    {
      "cell_type": "code",
      "execution_count": null,
      "metadata": {
        "id": "rSissWLK6YOg"
      },
      "outputs": [],
      "source": [
        "accuracy_randomforest=accuracy_score(labels_test, clf_predict)\n",
        "print(accuracy_randomforest)"
      ]
    },
    {
      "cell_type": "code",
      "execution_count": null,
      "metadata": {
        "id": "-JuVQB6_6ZWW"
      },
      "outputs": [],
      "source": [
        "clf_predict_proba = clf.predict_proba(features_test)\n",
        "skplt.metrics.plot_roc_curve(labels_test, clf_predict_proba)\n",
        "plt.show()"
      ]
    },
    {
      "cell_type": "code",
      "execution_count": null,
      "metadata": {
        "id": "7wGMDm8V7Z3v"
      },
      "outputs": [],
      "source": [
        "skplt.metrics.plot_precision_recall(labels_test,clf_predict_proba)"
      ]
    },
    {
      "cell_type": "markdown",
      "metadata": {
        "id": "mlGyhk5WLMlO"
      },
      "source": [
        "## **Naive Bayes**"
      ]
    },
    {
      "cell_type": "markdown",
      "metadata": {
        "id": "13UUMHwWPUBq"
      },
      "source": [
        "### **Naive Bayes Corpus del proyecto**"
      ]
    },
    {
      "cell_type": "code",
      "execution_count": null,
      "metadata": {
        "id": "qethvYFtSdxm"
      },
      "outputs": [],
      "source": [
        "hyperparameters_tuning ={'alpha': (1, 0.1, 0.01, 0.001, 0.0001, 0.00001),'fit_prior' : [True, False]}\n",
        "best_model_nb_cp,predictions_nb_cp,accuracy_nb_cp=randomsearchmodels(MultinomialNB(),hyperparameters_tuning,features_train_cp,labels_train_cp,features_test_cp,labels_test_cp)"
      ]
    },
    {
      "cell_type": "code",
      "execution_count": null,
      "metadata": {
        "id": "AsF-211cTuqV"
      },
      "outputs": [],
      "source": [
        "MultinomialNB().get_params().keys()"
      ]
    },
    {
      "cell_type": "code",
      "execution_count": null,
      "metadata": {
        "id": "fDwDCz98S07L"
      },
      "outputs": [],
      "source": [
        "print(\"Naive Bayes Accuracy Score -> \",accuracy_nb_cp)"
      ]
    },
    {
      "cell_type": "code",
      "execution_count": null,
      "metadata": {
        "id": "eOcqgG05XRhh"
      },
      "outputs": [],
      "source": [
        "sns.set(rc={'figure.figsize':(7,7)})\n",
        "class_names=['Noticias Falsa','Noticias verdadera']\n",
        "matrix=confusion_matrix(labels_test_cp, predictions_nb_cp)\n",
        "# create dataframe\n",
        "dataframe_graf=pd.DataFrame(matrix, index=class_names, columns=class_names)\n",
        "# create headmap\n",
        "sns.heatmap(dataframe_graf, annot=True, cbar=None, cmap=\"Blues\")\n",
        "plt.title(\"Confusion Matrix\")\n",
        "plt.xlabel(\"Verdadero\")\n",
        "plt.ylabel(\"Predicted\")"
      ]
    },
    {
      "cell_type": "code",
      "execution_count": null,
      "metadata": {
        "id": "PPvgFRNQXbUa"
      },
      "outputs": [],
      "source": [
        "predict_nb_cp=best_model_nb_cp.predict_proba(features_test_cp)\n",
        "skplt.metrics.plot_roc_curve(labels_test_cp, predict_nb_cp)\n",
        "plt.show()"
      ]
    },
    {
      "cell_type": "code",
      "execution_count": null,
      "metadata": {
        "id": "bePWTFP3XV_J"
      },
      "outputs": [],
      "source": [
        "skplt.metrics.plot_precision_recall(labels_test_cp,predict_nb_cp)"
      ]
    },
    {
      "cell_type": "markdown",
      "metadata": {
        "id": "MEEAVgaVPX2W"
      },
      "source": [
        "### **Naive Bayes Corpus Unido**"
      ]
    },
    {
      "cell_type": "code",
      "execution_count": null,
      "metadata": {
        "id": "OHcPyZbLW5yW"
      },
      "outputs": [],
      "source": [
        "hyperparameters_tuning ={'alpha': (1, 0.1, 0.01, 0.001, 0.0001, 0.00001),'fit_prior' : [True, False]}\n",
        "best_model_nb,predictions_nb,accuracy_nb=randomsearchmodels(MultinomialNB(),hyperparameters_tuning,features_train,labels_train,features_test,labels_test)"
      ]
    },
    {
      "cell_type": "code",
      "execution_count": null,
      "metadata": {
        "id": "Pce60BPRW_0a"
      },
      "outputs": [],
      "source": [
        "print(\"Naive Bayes Accuracy Score -> \",accuracy_nb)"
      ]
    },
    {
      "cell_type": "code",
      "execution_count": null,
      "metadata": {
        "id": "OuFKH4DHX4aC"
      },
      "outputs": [],
      "source": [
        "sns.set(rc={'figure.figsize':(7,7)})\n",
        "class_names=['Noticias Falsa','Noticias verdadera']\n",
        "matrix=confusion_matrix(labels_test, predictions_nb)\n",
        "# create dataframe\n",
        "dataframe_graf=pd.DataFrame(matrix, index=class_names, columns=class_names)\n",
        "# create headmap\n",
        "sns.heatmap(dataframe_graf, annot=True, cbar=None, cmap=\"Blues\")\n",
        "plt.title(\"Confusion Matrix\")\n",
        "plt.xlabel(\"Verdadero\")\n",
        "plt.ylabel(\"Predicted\")"
      ]
    },
    {
      "cell_type": "code",
      "execution_count": null,
      "metadata": {
        "id": "bkpXhtR-X_XF"
      },
      "outputs": [],
      "source": [
        "predict_nb=best_model_nb.predict_proba(features_test)\n",
        "skplt.metrics.plot_roc_curve(labels_test, predict_nb)\n",
        "plt.show()"
      ]
    },
    {
      "cell_type": "code",
      "execution_count": null,
      "metadata": {
        "id": "BVj7RuaqYD9S"
      },
      "outputs": [],
      "source": [
        "skplt.metrics.plot_precision_recall(labels_test,predict_nb)"
      ]
    },
    {
      "cell_type": "markdown",
      "metadata": {
        "id": "PV3HEtfsLw0B"
      },
      "source": [
        "## **SVC**"
      ]
    },
    {
      "cell_type": "markdown",
      "metadata": {
        "id": "tGCRfgjyU5ip"
      },
      "source": [
        "### **SVC Corpus del proyecto**"
      ]
    },
    {
      "cell_type": "code",
      "execution_count": null,
      "metadata": {
        "id": "INRurycEVP3i"
      },
      "outputs": [],
      "source": [
        "hyperparameters_tuning = {'C':[1,10,100,1000],'gamma':[1,0.1,0.001,0.0001], 'kernel':['linear','rbf','sigmoid']}\n",
        "best_model_svc_cp,predictions_svc_cp,accuracy_svc_cp=randomsearchmodels(SVC(probability=True),hyperparameters_tuning,features_train_cp,labels_train_cp,features_test_cp,labels_test_cp)"
      ]
    },
    {
      "cell_type": "code",
      "execution_count": null,
      "metadata": {
        "id": "3kTxe1HAhixt"
      },
      "outputs": [],
      "source": [
        "print(\"SVM Accuracy Score -> \",accuracy_svc_cp)"
      ]
    },
    {
      "cell_type": "code",
      "execution_count": null,
      "metadata": {
        "id": "NZQEQqaDVXpH"
      },
      "outputs": [],
      "source": [
        "sns.set(rc={'figure.figsize':(7,7)})\n",
        "class_names=['Noticias Falsa','Noticias verdadera']\n",
        "matrix=confusion_matrix(labels_test_cp, predictions_svc_cp)\n",
        "# create dataframe\n",
        "dataframe_graf=pd.DataFrame(matrix, index=class_names, columns=class_names)\n",
        "# create headmap\n",
        "sns.heatmap(dataframe_graf, annot=True, cbar=None, cmap=\"Blues\")\n",
        "plt.title(\"Confusion Matrix\")\n",
        "plt.xlabel(\"Verdadero\")\n",
        "plt.ylabel(\"Predicted\")"
      ]
    },
    {
      "cell_type": "code",
      "execution_count": null,
      "metadata": {
        "id": "dT6Fnzq_Vbr8"
      },
      "outputs": [],
      "source": [
        "predict_svc_cp=best_model_svc_cp.predict_proba(features_test_cp)\n",
        "skplt.metrics.plot_roc_curve(labels_test_cp, predict_svc_cp)\n",
        "plt.show()"
      ]
    },
    {
      "cell_type": "code",
      "execution_count": null,
      "metadata": {
        "id": "l5r_Ag5bVhW8"
      },
      "outputs": [],
      "source": [
        "skplt.metrics.plot_precision_recall(labels_test_cp,predict_svc_cp)"
      ]
    },
    {
      "cell_type": "markdown",
      "metadata": {
        "id": "eldHigyDVGq4"
      },
      "source": [
        "### **SVC Corpus Unido**"
      ]
    },
    {
      "cell_type": "code",
      "execution_count": null,
      "metadata": {
        "id": "WiWgTxkpiG2g"
      },
      "outputs": [],
      "source": [
        "hyperparameters_tuning = {'C':[1,10,100,1000],'gamma':[1,0.1,0.001,0.0001], 'kernel':['linear','rbf','sigmoid']}\n",
        "best_model_svc,predictions_svc,accuracy_svc=randomsearchmodels(SVC(probability=True),hyperparameters_tuning,features_train,labels_train,features_test,labels_test)                                       "
      ]
    },
    {
      "cell_type": "code",
      "execution_count": null,
      "metadata": {
        "id": "lr6pcpMeXqxt"
      },
      "outputs": [],
      "source": [
        "print(\"SVM Accuracy Score -> \",accuracy_svc)"
      ]
    },
    {
      "cell_type": "code",
      "execution_count": null,
      "metadata": {
        "id": "Ds6Pj1H4SS9d"
      },
      "outputs": [],
      "source": [
        "sns.set(rc={'figure.figsize':(7,7)})\n",
        "class_names=['Noticias Falsa','Noticias verdadera']\n",
        "matrix=confusion_matrix(labels_test, predictions_svc)\n",
        "# create dataframe\n",
        "dataframe_graf=pd.DataFrame(matrix, index=class_names, columns=class_names)\n",
        "# create headmap\n",
        "sns.heatmap(dataframe_graf, annot=True, cbar=None, cmap=\"Blues\")\n",
        "plt.title(\"Confusion Matrix\")\n",
        "plt.xlabel(\"Verdadero\")\n",
        "plt.ylabel(\"Predicted\")"
      ]
    },
    {
      "cell_type": "code",
      "execution_count": null,
      "metadata": {
        "id": "y-QJUH52A8wo"
      },
      "outputs": [],
      "source": [
        "predict_svc=best_model_svc.predict_proba(features_test)\n",
        "skplt.metrics.plot_roc_curve(labels_test, predict_svc)\n",
        "plt.show()"
      ]
    },
    {
      "cell_type": "code",
      "execution_count": null,
      "metadata": {
        "id": "emsWpX9wD0SM"
      },
      "outputs": [],
      "source": [
        "skplt.metrics.plot_precision_recall(labels_test,predict_svc)"
      ]
    },
    {
      "cell_type": "markdown",
      "metadata": {
        "id": "Id_aGAnUB3pg"
      },
      "source": [
        "## **Logistic Regression**"
      ]
    },
    {
      "cell_type": "markdown",
      "metadata": {
        "id": "OZBX3x_GVu-O"
      },
      "source": [
        "### **Logistic Regression Corpus del proyecto**"
      ]
    },
    {
      "cell_type": "code",
      "execution_count": null,
      "metadata": {
        "id": "ZFZNa5LKVyve"
      },
      "outputs": [],
      "source": [
        "hyperparameters_tuning = {'C':np.logspace(-2,1,100),'penalty':['l2']}\n",
        "#hyperparameters_tuning = {'C':np.logspace(-2,1,100),'solver': ['newton-cg', 'lbfgs', 'liblinear'],'penalty': ['none', 'l2']}\n",
        "best_model_logistic_cp,predictions_logistic_cp,accuracy_logistic_cp=randomsearchmodels(LogisticRegression(class_weight='balanced'),hyperparameters_tuning,features_train_cp,labels_train_cp,features_test_cp,labels_test_cp)"
      ]
    },
    {
      "cell_type": "code",
      "execution_count": null,
      "metadata": {
        "id": "68fS1bWlV_Ds"
      },
      "outputs": [],
      "source": [
        "print(\"Logistic Regression Accuracy Score -> \",accuracy_logistic_cp)"
      ]
    },
    {
      "cell_type": "code",
      "execution_count": null,
      "metadata": {
        "id": "-7xdRyGRWIIN"
      },
      "outputs": [],
      "source": [
        "sns.set(rc={'figure.figsize':(7,7)})\n",
        "class_names=['Noticias Falsa','Noticias verdadera']\n",
        "matrix=confusion_matrix(labels_test_cp, predictions_logistic_cp)\n",
        "# create dataframe\n",
        "dataframe_graf=pd.DataFrame(matrix, index=class_names, columns=class_names)\n",
        "# create headmap\n",
        "sns.heatmap(dataframe_graf, annot=True, cbar=None, cmap=\"Blues\")\n",
        "plt.title(\"Confusion Matrix\")\n",
        "plt.xlabel(\"Verdadero\")\n",
        "plt.ylabel(\"Predicted\")"
      ]
    },
    {
      "cell_type": "code",
      "execution_count": null,
      "metadata": {
        "id": "t0n0ykdnWSpm"
      },
      "outputs": [],
      "source": [
        "y_pred_proba_cp= best_model_logistic_cp.predict_proba(features_test_cp)\n",
        "skplt.metrics.plot_roc_curve(labels_test_cp,y_pred_proba_cp)\n",
        "plt.show()"
      ]
    },
    {
      "cell_type": "code",
      "execution_count": null,
      "metadata": {
        "id": "LGYiQrk7WSwM"
      },
      "outputs": [],
      "source": [
        "skplt.metrics.plot_precision_recall(labels_test_cp,y_pred_proba_cp)"
      ]
    },
    {
      "cell_type": "markdown",
      "metadata": {
        "id": "hbhBqOkGVxI0"
      },
      "source": [
        "### **Logistic Regression Corpus Unido**"
      ]
    },
    {
      "cell_type": "code",
      "execution_count": null,
      "metadata": {
        "id": "X6SHiqye6Fdk"
      },
      "outputs": [],
      "source": [
        "hyperparameters_tuning = {'C':np.logspace(-2,1,100),'penalty':['l2']}\n",
        "#hyperparameters_tuning = {'C':np.logspace(-2,1,100),'solver': ['newton-cg', 'lbfgs', 'liblinear'],'penalty': ['none', 'l2']}\n",
        "best_model_logistic,predictions_logistic,accuracy_logistic=randomsearchmodels(LogisticRegression(class_weight='balanced'),hyperparameters_tuning,features_train,labels_train,features_test,labels_test)"
      ]
    },
    {
      "cell_type": "code",
      "execution_count": null,
      "metadata": {
        "id": "60uTB4kvCbTn"
      },
      "outputs": [],
      "source": [
        "print(\"Logistic Regression Accuracy Score -> \",accuracy_logistic)"
      ]
    },
    {
      "cell_type": "code",
      "execution_count": null,
      "metadata": {
        "id": "BZvBmHe0CqdB"
      },
      "outputs": [],
      "source": [
        "sns.set(rc={'figure.figsize':(7,7)})\n",
        "class_names=['Noticias Falsa','Noticias verdadera']\n",
        "matrix=confusion_matrix(labels_test, predictions_logistic)\n",
        "# create dataframe\n",
        "dataframe_graf=pd.DataFrame(matrix, index=class_names, columns=class_names)\n",
        "# create headmap\n",
        "sns.heatmap(dataframe_graf, annot=True, cbar=None, cmap=\"Blues\")\n",
        "plt.title(\"Confusion Matrix\")\n",
        "plt.xlabel(\"Verdadero\")\n",
        "plt.ylabel(\"Predicted\")"
      ]
    },
    {
      "cell_type": "code",
      "execution_count": null,
      "metadata": {
        "id": "vUIQnTU_DSM7"
      },
      "outputs": [],
      "source": [
        "dataframe_graf"
      ]
    },
    {
      "cell_type": "code",
      "execution_count": null,
      "metadata": {
        "id": "AyagD8ufCwTu"
      },
      "outputs": [],
      "source": [
        "y_pred_proba= best_model_logistic.predict_proba(features_test)\n",
        "skplt.metrics.plot_roc_curve(labels_test,y_pred_proba)\n",
        "plt.show()"
      ]
    },
    {
      "cell_type": "code",
      "execution_count": null,
      "metadata": {
        "id": "jJscyAqFD6SS"
      },
      "outputs": [],
      "source": [
        "skplt.metrics.plot_precision_recall(labels_test,y_pred_proba)"
      ]
    },
    {
      "cell_type": "markdown",
      "metadata": {
        "id": "i5I-VKURmURS"
      },
      "source": [
        "## **XGBoost**"
      ]
    },
    {
      "cell_type": "markdown",
      "metadata": {
        "id": "OJLviuFOW80k"
      },
      "source": [
        "### **XGBoost Corpus del proyecto**"
      ]
    },
    {
      "cell_type": "code",
      "execution_count": null,
      "metadata": {
        "id": "rl9m9Sr9c3dQ"
      },
      "outputs": [],
      "source": [
        "hyperparameters_tuning={'colsample_bytree' : [0.3, 0.5, 1.0],'gamma' : [0.1, 1, 1.5],'learning_rate' : [0.1, 0.01, 0.05,0.9],'min_child_weight' : [1, 5, 10],'scale_pos_weight' : [1, 2, 4],'subsample' : [0.8, 0.9, 1.0],'n_estimators' : [int(x) for x in np.linspace(start = 200, stop = 1000, num = 5)],'max_depth' : [3,5,7,9],'reg_alpha':[0.1, 0.01, 0.05],'eta_vals': [0.001, 0.01, 0.1]}\n",
        "best_model_xgb_cp,predictions_xgb_cp,accuracy_xgb_cp=randomsearchmodels(xgb.XGBClassifier(objective= 'binary:logistic',nthread=4,seed=42),hyperparameters_tuning,features_train_cp,labels_train_cp,features_test_cp,labels_test_cp)"
      ]
    },
    {
      "cell_type": "code",
      "execution_count": null,
      "metadata": {
        "id": "LDt9HHqHdF99"
      },
      "outputs": [],
      "source": [
        "print(\"XGBoost Accuracy Score: \",accuracy_xgb_cp)"
      ]
    },
    {
      "cell_type": "code",
      "execution_count": null,
      "metadata": {
        "id": "HxU-crsMdGnE"
      },
      "outputs": [],
      "source": [
        "sns.set(rc={'figure.figsize':(7,7)})\n",
        "class_names=['Noticias Falsa','Noticias verdadera']\n",
        "matrix=confusion_matrix(labels_test_cp, predictions_xgb_cp)\n",
        "# create dataframe\n",
        "dataframe_graf=pd.DataFrame(matrix, index=class_names, columns=class_names)\n",
        "# create headmap\n",
        "sns.heatmap(dataframe_graf, annot=True, cbar=None, cmap=\"Blues\")\n",
        "plt.title(\"Confusion Matrix\")\n",
        "plt.xlabel(\"Verdadero\")\n",
        "plt.ylabel(\"Predicted\")"
      ]
    },
    {
      "cell_type": "code",
      "execution_count": null,
      "metadata": {
        "id": "ys4wm_vAdHBc"
      },
      "outputs": [],
      "source": [
        "y_pred_proba_cp= best_model_xgb_cp.predict_proba(features_test_cp)\n",
        "skplt.metrics.plot_roc_curve(labels_test_cp,y_pred_proba_cp)\n",
        "plt.show()"
      ]
    },
    {
      "cell_type": "code",
      "execution_count": null,
      "metadata": {
        "id": "IB-55LGUdWdu"
      },
      "outputs": [],
      "source": [
        "skplt.metrics.plot_precision_recall(labels_test_cp,y_pred_proba_cp)"
      ]
    },
    {
      "cell_type": "markdown",
      "metadata": {
        "id": "LR3wb2H4XA2i"
      },
      "source": [
        "### **XGBoost Corpus Unido**"
      ]
    },
    {
      "cell_type": "code",
      "execution_count": null,
      "metadata": {
        "id": "gLgUv6k-ku3s"
      },
      "outputs": [],
      "source": [
        "hyperparameters_tuning={'colsample_bytree' : [0.3, 0.5, 1.0],'gamma' : [0.1, 1, 1.5],'learning_rate' : [0.1, 0.01, 0.05,0.9],'min_child_weight' : [1, 5, 10],'scale_pos_weight' : [1, 2, 4],'subsample' : [0.8, 0.9, 1.0],'n_estimators' : [int(x) for x in np.linspace(start = 200, stop = 1000, num = 5)],'max_depth' : [3,5,7,9],'reg_alpha':[0.1, 0.01, 0.05],'eta_vals': [0.001, 0.01, 0.1]}\n",
        "best_model_xgb,predictions_xgb,accuracy_xgb=randomsearchmodels(xgb.XGBClassifier(objective= 'binary:logistic',nthread=4,seed=42),hyperparameters_tuning,features_train,labels_train,features_test,labels_test)"
      ]
    },
    {
      "cell_type": "code",
      "execution_count": null,
      "metadata": {
        "id": "lAaheSg6RdtT"
      },
      "outputs": [],
      "source": [
        "print(\"XGBoost Accuracy Score: \",accuracy_xgb)"
      ]
    },
    {
      "cell_type": "code",
      "execution_count": null,
      "metadata": {
        "id": "ZEJmYuJuRia7"
      },
      "outputs": [],
      "source": [
        "sns.set(rc={'figure.figsize':(7,7)})\n",
        "class_names=['Noticias Falsa','Noticias verdadera']\n",
        "matrix=confusion_matrix(labels_test, predictions_xgb)\n",
        "# create dataframe\n",
        "dataframe_graf=pd.DataFrame(matrix, index=class_names, columns=class_names)\n",
        "# create headmap\n",
        "sns.heatmap(dataframe_graf, annot=True, cbar=None, cmap=\"Blues\")\n",
        "plt.title(\"Confusion Matrix\")\n",
        "plt.xlabel(\"Verdadero\")\n",
        "plt.ylabel(\"Predicted\")"
      ]
    },
    {
      "cell_type": "code",
      "execution_count": null,
      "metadata": {
        "id": "c7_z5WFrDvh0"
      },
      "outputs": [],
      "source": [
        "dataframe_graf"
      ]
    },
    {
      "cell_type": "code",
      "execution_count": null,
      "metadata": {
        "id": "xi_isCeqSEHE"
      },
      "outputs": [],
      "source": [
        "y_pred_proba= best_model_xgb.predict_proba(features_test)\n",
        "skplt.metrics.plot_roc_curve(labels_test,y_pred_proba)\n",
        "plt.show()"
      ]
    },
    {
      "cell_type": "code",
      "execution_count": null,
      "metadata": {
        "id": "Yd10DSKkSIJq"
      },
      "outputs": [],
      "source": [
        "skplt.metrics.plot_precision_recall(labels_test,y_pred_proba)"
      ]
    },
    {
      "cell_type": "markdown",
      "metadata": {
        "id": "wmbjR31fata8"
      },
      "source": [
        "## **Redes Neuronales**"
      ]
    },
    {
      "cell_type": "markdown",
      "metadata": {
        "id": "BYu8Lo7PWs5b"
      },
      "source": [
        "### **Red Neuronal Corpus del proyecto**"
      ]
    },
    {
      "cell_type": "code",
      "execution_count": null,
      "metadata": {
        "id": "rayuqpOHXAu5"
      },
      "outputs": [],
      "source": [
        "# create model\n",
        "#features_train_cp.shape[1] representa el numero de columnas de los datos de entrenamiento.\n",
        "tf.keras.backend.clear_session()\n",
        "model = Sequential()\n",
        "model.add(Dense(12, input_dim=features_train_cp.shape[1], activation='relu'))\n",
        "model.add(Dense(8 , activation='relu' ))\n",
        "model.add(Dense(1 , activation='sigmoid' ))"
      ]
    },
    {
      "cell_type": "code",
      "execution_count": null,
      "metadata": {
        "id": "1SJyTz8CXD2N"
      },
      "outputs": [],
      "source": [
        "# Compile model\n",
        "model.compile(loss= 'binary_crossentropy' , optimizer= 'adam' , metrics=[ 'accuracy' ])"
      ]
    },
    {
      "cell_type": "code",
      "execution_count": null,
      "metadata": {
        "id": "pmFBRLsiXHKN"
      },
      "outputs": [],
      "source": [
        "print(features_train_cp.shape)\n",
        "print(features_test_cp.shape)\n",
        "print(type(features_train_cp))\n",
        "print(type(labels_test_cp))\n",
        "\n",
        "print((features_train_cp.shape[1]))"
      ]
    },
    {
      "cell_type": "code",
      "execution_count": null,
      "metadata": {
        "id": "PW2MHLXuXJ9D"
      },
      "outputs": [],
      "source": [
        "X_train_nn_cp=features_train_cp.toarray()\n",
        "y_train_nn_cp=labels_train_cp.to_numpy()\n",
        "X_test_nn_cp=features_test_cp.toarray()\n",
        "y_test_nn_cp=labels_test_cp.to_numpy()"
      ]
    },
    {
      "cell_type": "code",
      "execution_count": null,
      "metadata": {
        "id": "ZMCZ8-NIXRXV"
      },
      "outputs": [],
      "source": [
        "# Fit the model\n",
        "callback = tf.keras.callbacks.EarlyStopping(monitor='val_accuracy', patience=40)\n",
        "entrenamiento=model.fit(x= X_train_nn_cp, \n",
        "                        y=y_train_nn_cp,\n",
        "                        validation_data=(X_test_nn_cp,\n",
        "                                         y_test_nn_cp),\n",
        "                        batch_size=256,\n",
        "                        callbacks=[callback],\n",
        "                        epochs=500,\n",
        "                        verbose=1)"
      ]
    },
    {
      "cell_type": "code",
      "execution_count": null,
      "metadata": {
        "id": "hoacaBHmb7Tf"
      },
      "outputs": [],
      "source": [
        "accuracy_nn_cp=max(entrenamiento.history['val_accuracy'])"
      ]
    },
    {
      "cell_type": "code",
      "execution_count": null,
      "metadata": {
        "id": "3EtaPkNrXfZ7"
      },
      "outputs": [],
      "source": [
        "## grafica de la evolución de la funcion de perdida\n",
        "\n",
        "def plot_history(history):\n",
        "  hist=pd.DataFrame(history.history)\n",
        "  hist['epoch']=history.epoch\n",
        "  plt.figure(figsize=(10,5))\n",
        "  plt.xlabel('Epoch')\n",
        "  plt.ylabel('Accuracy')\n",
        "  plt.plot(hist['epoch'], hist['accuracy'], label='Train Error')\n",
        "  plt.plot(hist['epoch'], hist['val_accuracy'], label=\"Val Error\")\n",
        "  #plt.plot(hist['epoch'], hist['mae'], label='MAE')\n",
        "  #plt.plot(hist['epoch'], hist['val_mae'], label='val MAE')\n",
        "  #plt.ylim([0,20])\n",
        "  plt.legend()\n",
        "  plt.show()\n",
        "\n",
        "plot_history(entrenamiento)"
      ]
    },
    {
      "cell_type": "markdown",
      "metadata": {
        "id": "FnMzsLU7dKK9"
      },
      "source": [
        "### **Red Neuronal Corpus Unido**"
      ]
    },
    {
      "cell_type": "code",
      "execution_count": null,
      "metadata": {
        "id": "XPx4Q4iXdKK-"
      },
      "outputs": [],
      "source": [
        "tf.keras.backend.clear_session()\n",
        "# create model\n",
        "#features_train.shape[1] representa el numero de columnas de los datos de entrenamiento.\n",
        "\n",
        "model = Sequential()\n",
        "model.add(Dense(128, input_dim=features_train.shape[1], activation='relu'))\n",
        "model.add(Dense(64 , activation='relu' ))\n",
        "model.add(Dense(32 , activation='relu' ))\n",
        "model.add(Dense(32 , activation='relu' ))\n",
        "model.add(Dense(8 , activation='relu' ))\n",
        "model.add(Dense(1 , activation='sigmoid' ))"
      ]
    },
    {
      "cell_type": "code",
      "execution_count": null,
      "metadata": {
        "id": "EsHNW0zTdKK-"
      },
      "outputs": [],
      "source": [
        "# Compile model\n",
        "model.compile(loss= 'binary_crossentropy' , optimizer= 'adam' , metrics=[ 'accuracy' ])"
      ]
    },
    {
      "cell_type": "code",
      "execution_count": null,
      "metadata": {
        "id": "XWqq3IPJdKK-"
      },
      "outputs": [],
      "source": [
        "print(features_train.shape)\n",
        "print(features_test.shape)\n",
        "print(type(features_train))\n",
        "print(type(labels_test))"
      ]
    },
    {
      "cell_type": "code",
      "execution_count": null,
      "metadata": {
        "id": "fsSGsXQWdKK_"
      },
      "outputs": [],
      "source": [
        "X_train_nn=features_train.toarray()\n",
        "y_train_nn=labels_train.to_numpy()\n",
        "X_test_nn=features_test.toarray()\n",
        "y_test_nn=labels_test.to_numpy()"
      ]
    },
    {
      "cell_type": "code",
      "execution_count": null,
      "metadata": {
        "id": "EWBZOFh0dKK_"
      },
      "outputs": [],
      "source": [
        "# Fit the model\n",
        "callback = tf.keras.callbacks.EarlyStopping(monitor='val_accuracy', patience=30)\n",
        "entrenamiento=model.fit(x= X_train_nn, \n",
        "                        y=y_train_nn,\n",
        "                        validation_data=(X_test_nn,\n",
        "                                         y_test_nn),\n",
        "                        batch_size=256 ,\n",
        "                        epochs=500,\n",
        "                        callbacks=[callback], \n",
        "                        verbose=1)"
      ]
    },
    {
      "cell_type": "code",
      "execution_count": null,
      "metadata": {
        "id": "ykZDo_WHdKK_"
      },
      "outputs": [],
      "source": [
        "accuracy_nn=max(entrenamiento.history['val_accuracy'])\n",
        "print(accuracy_nn)"
      ]
    },
    {
      "cell_type": "code",
      "execution_count": null,
      "metadata": {
        "id": "g4ZFza1UdKK_"
      },
      "outputs": [],
      "source": [
        "## grafica de la evolución de la funcion de perdida\n",
        "\n",
        "def plot_history(history):\n",
        "  hist=pd.DataFrame(history.history)\n",
        "  hist['epoch']=history.epoch\n",
        "  plt.figure(figsize=(10,5))\n",
        "  plt.xlabel('Epoch')\n",
        "  plt.ylabel('Accuracy')\n",
        "  plt.plot(hist['epoch'], hist['accuracy'], label='Train Error')\n",
        "  plt.plot(hist['epoch'], hist['val_accuracy'], label=\"Val Error\")\n",
        "  #plt.plot(hist['epoch'], hist['mae'], label='MAE')\n",
        "  #plt.plot(hist['epoch'], hist['val_mae'], label='val MAE')\n",
        "  #plt.ylim([0,20])\n",
        "  plt.legend()\n",
        "  plt.show()\n",
        "\n",
        "plot_history(entrenamiento)"
      ]
    },
    {
      "cell_type": "markdown",
      "source": [
        "## **BERT**"
      ],
      "metadata": {
        "id": "6r-uSv0hywzC"
      }
    },
    {
      "cell_type": "markdown",
      "source": [
        "### Entrenamiento de BERT Con corpus preprocesado\n",
        "\n"
      ],
      "metadata": {
        "id": "qk_b8PtXnfHA"
      }
    },
    {
      "cell_type": "code",
      "source": [
        "# una vez realizado el preprocesamiento de todas la noticas  por fuera del entorno del notebbok, se cargan los datos disponible en la url:\n",
        "url_bert='https://docs.google.com/uc?export=download&id=1Bxw4CFoAWUGQBw1rpIkqpnp5JyVFeULl'\n",
        "download_unzip(url_bert)"
      ],
      "metadata": {
        "id": "tqY0Oi2lzxbN"
      },
      "execution_count": null,
      "outputs": []
    },
    {
      "cell_type": "code",
      "source": [
        "os.chdir('/content')"
      ],
      "metadata": {
        "id": "sLIsGjw8l7dY"
      },
      "execution_count": null,
      "outputs": []
    },
    {
      "cell_type": "code",
      "source": [
        "## se leen las noticias utilizando las utilidades de keras\n",
        "AUTOTUNE = tf.data.AUTOTUNE\n",
        "batch_size = 32\n",
        "seed = 42\n",
        "\n",
        "raw_train_ds = tf.keras.utils.text_dataset_from_directory(\n",
        "    'news/train',\n",
        "    batch_size=batch_size,\n",
        "    validation_split=0.2,\n",
        "    subset='training',\n",
        "    seed=seed)\n",
        "\n",
        "class_names = raw_train_ds.class_names\n",
        "train_ds = raw_train_ds.cache().prefetch(buffer_size=AUTOTUNE)\n",
        "\n",
        "val_ds = tf.keras.utils.text_dataset_from_directory(\n",
        "    'news/train',\n",
        "    batch_size=batch_size,\n",
        "    validation_split=0.2,\n",
        "    subset='validation',\n",
        "    seed=seed)\n",
        "\n",
        "val_ds = val_ds.cache().prefetch(buffer_size=AUTOTUNE)"
      ],
      "metadata": {
        "id": "krwZexOez_0F"
      },
      "execution_count": null,
      "outputs": []
    },
    {
      "cell_type": "code",
      "source": [
        "# se define la arquitectura de la red neuronal utilizando a BERT para que haga parte del modelo (Fine Tunning)\n",
        "tf.keras.backend.clear_session()\n",
        "def build_classifier_model():\n",
        "  text_input = tf.keras.layers.Input(shape=(), dtype=tf.string, name='text')\n",
        "  preprocessing_layer = hub.KerasLayer(tfhub_handle_preprocess, name='preprocessing')\n",
        "  encoder_inputs = preprocessing_layer(text_input)\n",
        "  encoder = hub.KerasLayer(tfhub_handle_encoder, trainable=True, name='BERT_encoder')\n",
        "  outputs = encoder(encoder_inputs)\n",
        "  net = outputs['pooled_output']\n",
        "  net = tf.keras.layers.Dropout(0.1)(net)\n",
        "  net = tf.keras.layers.Dense(1, activation=None, name='classifier')(net)\n",
        "  return tf.keras.Model(text_input, net)"
      ],
      "metadata": {
        "id": "yBod9Npu0a6-"
      },
      "execution_count": null,
      "outputs": []
    },
    {
      "cell_type": "code",
      "source": [
        "classifier_model = build_classifier_model()\n",
        "tf.keras.utils.plot_model(classifier_model)"
      ],
      "metadata": {
        "id": "Skw4HMa10r1K"
      },
      "execution_count": null,
      "outputs": []
    },
    {
      "cell_type": "code",
      "source": [
        "# definición de la funcion de perdida y la metrica a utilizar\n",
        "loss = tf.keras.losses.BinaryCrossentropy(from_logits=True)\n",
        "metrics = tf.metrics.BinaryAccuracy()"
      ],
      "metadata": {
        "id": "VC2fxzQX04n7"
      },
      "execution_count": null,
      "outputs": []
    },
    {
      "cell_type": "code",
      "source": [
        "# parametrización\n",
        "epochs = 10\n",
        "steps_per_epoch = tf.data.experimental.cardinality(train_ds).numpy()\n",
        "num_train_steps = steps_per_epoch * epochs\n",
        "num_warmup_steps = int(0.1*num_train_steps)\n",
        "\n",
        "init_lr = 3e-5\n",
        "optimizer = optimization.create_optimizer(init_lr=init_lr,\n",
        "                                          num_train_steps=num_train_steps,\n",
        "                                          num_warmup_steps=num_warmup_steps,\n",
        "                                          optimizer_type='adamw')"
      ],
      "metadata": {
        "id": "IDlRY0Lm1A3s"
      },
      "execution_count": null,
      "outputs": []
    },
    {
      "cell_type": "code",
      "source": [
        "# compilación del modelo\n",
        "classifier_model.compile(optimizer=optimizer,\n",
        "                         loss=loss,\n",
        "                         metrics=metrics)"
      ],
      "metadata": {
        "id": "lrINDlVz1L-8"
      },
      "execution_count": null,
      "outputs": []
    },
    {
      "cell_type": "code",
      "source": [
        "## entrenamiento del modelo con todas la noticias.\n",
        "print(f'Training model with {tfhub_handle_encoder}')\n",
        "history = classifier_model.fit(x=train_ds,\n",
        "                               validation_data=val_ds,\n",
        "                               epochs=epochs)"
      ],
      "metadata": {
        "id": "qF4VOix01REo"
      },
      "execution_count": null,
      "outputs": []
    },
    {
      "cell_type": "code",
      "source": [
        "history_dict = history.history\n",
        "print(history_dict.keys())\n",
        "\n",
        "acc = history_dict['binary_accuracy']\n",
        "val_acc = history_dict['val_binary_accuracy']\n",
        "loss = history_dict['loss']\n",
        "val_loss = history_dict['val_loss']\n",
        "\n",
        "epochs = range(1, len(acc) + 1)\n",
        "fig = plt.figure(figsize=(10, 6))\n",
        "fig.tight_layout()\n",
        "\n",
        "plt.subplot(2, 1, 1)\n",
        "# r is for \"solid red line\"\n",
        "plt.plot(epochs, loss, 'r', label='Training loss')\n",
        "# b is for \"solid blue line\"\n",
        "plt.plot(epochs, val_loss, 'b', label='Validation loss')\n",
        "plt.title('Training and validation loss')\n",
        "# plt.xlabel('Epochs')\n",
        "plt.ylabel('Loss')\n",
        "plt.legend()\n",
        "\n",
        "plt.subplot(2, 1, 2)\n",
        "plt.plot(epochs, acc, 'r', label='Training acc')\n",
        "plt.plot(epochs, val_acc, 'b', label='Validation acc')\n",
        "plt.title('Training and validation accuracy')\n",
        "plt.xlabel('Epochs')\n",
        "plt.ylabel('Accuracy')\n",
        "plt.legend(loc='lower right')"
      ],
      "metadata": {
        "id": "-FZFG_g83rNq"
      },
      "execution_count": null,
      "outputs": []
    },
    {
      "cell_type": "markdown",
      "source": [
        "### Entrenamiento de BERT con corpus sin procesar (Raw Text)\n"
      ],
      "metadata": {
        "id": "Zo8cC5CxoISx"
      }
    },
    {
      "cell_type": "code",
      "source": [
        "# alistamiento de los datos para el entrenamiento con BERT\n",
        "noticias_falsas=df_base[df_base['Categoria']=='Noticia Falsa']\n",
        "noticias_verdaderas=df_base[df_base['Categoria']=='Noticia Real']"
      ],
      "metadata": {
        "id": "6hCEXPYfoTey"
      },
      "execution_count": null,
      "outputs": []
    },
    {
      "cell_type": "code",
      "source": [
        "# reset de los indices\n",
        "noticias_falsas=noticias_falsas.reset_index(drop=True)\n",
        "noticias_verdaderas=noticias_verdaderas.reset_index(drop=True)\n",
        "len_noticias_falsas=len(noticias_falsas)\n",
        "len_noticias_verdaderas=len(noticias_verdaderas)"
      ],
      "metadata": {
        "id": "2Jjsh9ECoUfJ"
      },
      "execution_count": null,
      "outputs": []
    },
    {
      "cell_type": "code",
      "source": [
        "## ver el directorio actual de trabajo\n",
        "import os\n",
        "print(os.getcwd())\n",
        "#os.chdir(os.getcwd())"
      ],
      "metadata": {
        "id": "jLni3379oWbC",
        "colab": {
          "base_uri": "https://localhost:8080/"
        },
        "outputId": "fd59be18-d317-4874-cf25-929492c72803"
      },
      "execution_count": null,
      "outputs": [
        {
          "output_type": "stream",
          "name": "stdout",
          "text": [
            "/content\n"
          ]
        }
      ]
    },
    {
      "cell_type": "code",
      "source": [
        "# crear  los directorios y separar las noticias de manera individual\n",
        "os.makedirs('Noticias')\n",
        "os.chdir('Noticias')\n",
        "os.makedirs('Noticias_falsas')\n",
        "os.chdir('Noticias_falsas')\n",
        "for n,i in zip(range(len_noticias_falsas), range(len_noticias_falsas)):\n",
        "    with open(f'{n}.txt', 'w') as n:\n",
        "            n.write(noticias_falsas['Texto'][i])"
      ],
      "metadata": {
        "id": "hiz1q62LoYG5"
      },
      "execution_count": null,
      "outputs": []
    },
    {
      "cell_type": "code",
      "source": [
        "os.chdir('/content')\n",
        "os.chdir('Noticias')\n",
        "os.makedirs('Noticias_verdaderas')\n",
        "os.chdir('Noticias_verdaderas')\n",
        "for n,i in zip(range(len_noticias_verdaderas), range(len_noticias_verdaderas)):\n",
        "    with open(f'{n}.txt', 'w') as n:\n",
        "            n.write(noticias_verdaderas['Texto'][i])\n",
        "os.chdir('/content')"
      ],
      "metadata": {
        "id": "GO3RIHwwobJ_"
      },
      "execution_count": null,
      "outputs": []
    },
    {
      "cell_type": "code",
      "source": [
        "# para borra los directorios\n",
        "#import shutil\n",
        "#os.chdir('/content')\n",
        "#shutil.rmtree('Noticias')"
      ],
      "metadata": {
        "id": "sqRUaJUGodWx"
      },
      "execution_count": null,
      "outputs": []
    },
    {
      "cell_type": "code",
      "source": [
        "## se leen las noticias utilizando las utilidades de keras\n",
        "AUTOTUNE = tf.data.AUTOTUNE\n",
        "batch_size = 32\n",
        "seed = 42\n",
        "\n",
        "raw_train_ds = tf.keras.utils.text_dataset_from_directory(\n",
        "    'Noticias',\n",
        "    batch_size=batch_size,\n",
        "    validation_split=0.2,\n",
        "    subset='training',\n",
        "    seed=seed)\n",
        "\n",
        "class_names = raw_train_ds.class_names\n",
        "train_ds = raw_train_ds.cache().prefetch(buffer_size=AUTOTUNE)\n",
        "\n",
        "val_ds = tf.keras.utils.text_dataset_from_directory(\n",
        "    'Noticias',\n",
        "    batch_size=batch_size,\n",
        "    validation_split=0.2,\n",
        "    subset='validation',\n",
        "    seed=seed)\n",
        "\n",
        "val_ds = val_ds.cache().prefetch(buffer_size=AUTOTUNE)"
      ],
      "metadata": {
        "id": "L3-FFYT2pBUp",
        "colab": {
          "base_uri": "https://localhost:8080/"
        },
        "outputId": "74a5db22-abf1-4b98-f6c9-0301e830eae7"
      },
      "execution_count": null,
      "outputs": [
        {
          "output_type": "stream",
          "name": "stdout",
          "text": [
            "Found 3173 files belonging to 2 classes.\n",
            "Using 2539 files for training.\n",
            "Found 3173 files belonging to 2 classes.\n",
            "Using 634 files for validation.\n"
          ]
        }
      ]
    },
    {
      "cell_type": "code",
      "source": [
        "# se define la arquitectura de la red neuronal utilizando a BERT para que haga parte del modelo (Fine Tunning)\n",
        "tf.keras.backend.clear_session()\n",
        "def build_classifier_model():\n",
        "  text_input = tf.keras.layers.Input(shape=(), dtype=tf.string, name='text')\n",
        "  preprocessing_layer = hub.KerasLayer(tfhub_handle_preprocess, name='preprocessing')\n",
        "  encoder_inputs = preprocessing_layer(text_input)\n",
        "  encoder = hub.KerasLayer(tfhub_handle_encoder, trainable=True, name='BERT_encoder')\n",
        "  outputs = encoder(encoder_inputs)\n",
        "  net = outputs['pooled_output']\n",
        "  net = tf.keras.layers.Dropout(0.1)(net)\n",
        "  net = tf.keras.layers.Dense(1, activation=None, name='classifier')(net)\n",
        "  return tf.keras.Model(text_input, net)"
      ],
      "metadata": {
        "id": "lw60AN9MpGlR"
      },
      "execution_count": null,
      "outputs": []
    },
    {
      "cell_type": "code",
      "source": [
        "classifier_model = build_classifier_model()\n",
        "tf.keras.utils.plot_model(classifier_model)"
      ],
      "metadata": {
        "id": "vYq1sSuEpRX5",
        "colab": {
          "base_uri": "https://localhost:8080/",
          "height": 466
        },
        "outputId": "5dd93428-443e-4e42-ce41-80ca028c98df"
      },
      "execution_count": null,
      "outputs": [
        {
          "output_type": "execute_result",
          "data": {
            "text/plain": [
              "<IPython.core.display.Image object>"
            ],
            "image/png": "[encoded data removed]"
          },
          "metadata": {},
          "execution_count": 52
        }
      ]
    },
    {
      "cell_type": "code",
      "source": [
        "# definición de la funcion de perdida y la metrica a utilizar\n",
        "loss = tf.keras.losses.BinaryCrossentropy(from_logits=True)\n",
        "metrics = tf.metrics.BinaryAccuracy()"
      ],
      "metadata": {
        "id": "9MQX2zfkpY2r"
      },
      "execution_count": null,
      "outputs": []
    },
    {
      "cell_type": "code",
      "source": [
        "# parametrización\n",
        "epochs = 10\n",
        "steps_per_epoch = tf.data.experimental.cardinality(train_ds).numpy()\n",
        "num_train_steps = steps_per_epoch * epochs\n",
        "num_warmup_steps = int(0.1*num_train_steps)\n",
        "\n",
        "init_lr = 3e-5\n",
        "optimizer = optimization.create_optimizer(init_lr=init_lr,\n",
        "                                          num_train_steps=num_train_steps,\n",
        "                                          num_warmup_steps=num_warmup_steps,\n",
        "                                          optimizer_type='adamw')"
      ],
      "metadata": {
        "id": "GgViUkClpdZQ"
      },
      "execution_count": null,
      "outputs": []
    },
    {
      "cell_type": "code",
      "source": [
        "# compilación del modelo\n",
        "classifier_model.compile(optimizer=optimizer,\n",
        "                         loss=loss,\n",
        "                         metrics=metrics)"
      ],
      "metadata": {
        "id": "zlbf-xbEpeMz"
      },
      "execution_count": null,
      "outputs": []
    },
    {
      "cell_type": "code",
      "source": [
        "## entrenamiento del modelo con todas la noticias.\n",
        "print(f'Training model with {tfhub_handle_encoder}')\n",
        "history = classifier_model.fit(x=train_ds,\n",
        "                               validation_data=val_ds,\n",
        "                               epochs=epochs)"
      ],
      "metadata": {
        "id": "ThfpG_7Wpm4Z",
        "colab": {
          "base_uri": "https://localhost:8080/"
        },
        "outputId": "cba82388-94b5-4310-bec4-7a9b2199dd38"
      },
      "execution_count": null,
      "outputs": [
        {
          "output_type": "stream",
          "name": "stdout",
          "text": [
            "Training model with https://tfhub.dev/tensorflow/bert_multi_cased_L-12_H-768_A-12/3\n",
            "Epoch 1/10\n",
            "80/80 [==============================] - 186s 2s/step - loss: 0.6003 - binary_accuracy: 0.6321 - val_loss: 0.5595 - val_binary_accuracy: 0.7366\n",
            "Epoch 2/10\n",
            "80/80 [==============================] - 154s 2s/step - loss: 0.3941 - binary_accuracy: 0.8070 - val_loss: 0.5087 - val_binary_accuracy: 0.8170\n",
            "Epoch 3/10\n",
            "80/80 [==============================] - 154s 2s/step - loss: 0.2714 - binary_accuracy: 0.8811 - val_loss: 0.6322 - val_binary_accuracy: 0.7997\n",
            "Epoch 4/10\n",
            "80/80 [==============================] - 154s 2s/step - loss: 0.1770 - binary_accuracy: 0.9299 - val_loss: 0.6968 - val_binary_accuracy: 0.8155\n",
            "Epoch 5/10\n",
            "80/80 [==============================] - 154s 2s/step - loss: 0.1076 - binary_accuracy: 0.9646 - val_loss: 0.9258 - val_binary_accuracy: 0.8249\n",
            "Epoch 6/10\n",
            "80/80 [==============================] - 154s 2s/step - loss: 0.0463 - binary_accuracy: 0.9874 - val_loss: 1.1155 - val_binary_accuracy: 0.8123\n",
            "Epoch 7/10\n",
            "80/80 [==============================] - 154s 2s/step - loss: 0.0127 - binary_accuracy: 0.9953 - val_loss: 1.0961 - val_binary_accuracy: 0.8423\n",
            "Epoch 8/10\n",
            "80/80 [==============================] - 154s 2s/step - loss: 0.0088 - binary_accuracy: 0.9972 - val_loss: 1.0782 - val_binary_accuracy: 0.8502\n",
            "Epoch 9/10\n",
            "80/80 [==============================] - 154s 2s/step - loss: 0.0067 - binary_accuracy: 0.9984 - val_loss: 1.1496 - val_binary_accuracy: 0.8470\n",
            "Epoch 10/10\n",
            "80/80 [==============================] - 153s 2s/step - loss: 0.0040 - binary_accuracy: 0.9992 - val_loss: 1.1410 - val_binary_accuracy: 0.8438\n"
          ]
        }
      ]
    },
    {
      "cell_type": "code",
      "source": [
        "history_dict = history.history\n",
        "print(history_dict.keys())\n",
        "\n",
        "acc = history_dict['binary_accuracy']\n",
        "val_acc = history_dict['val_binary_accuracy']\n",
        "loss = history_dict['loss']\n",
        "val_loss = history_dict['val_loss']\n",
        "\n",
        "epochs = range(1, len(acc) + 1)\n",
        "fig = plt.figure(figsize=(10, 6))\n",
        "fig.tight_layout()\n",
        "\n",
        "plt.subplot(2, 1, 1)\n",
        "# r is for \"solid red line\"\n",
        "plt.plot(epochs, loss, 'r', label='Training loss')\n",
        "# b is for \"solid blue line\"\n",
        "plt.plot(epochs, val_loss, 'b', label='Validation loss')\n",
        "plt.title('Training and validation loss')\n",
        "# plt.xlabel('Epochs')\n",
        "plt.ylabel('Loss')\n",
        "plt.legend()\n",
        "\n",
        "plt.subplot(2, 1, 2)\n",
        "plt.plot(epochs, acc, 'r', label='Training acc')\n",
        "plt.plot(epochs, val_acc, 'b', label='Validation acc')\n",
        "plt.title('Training and validation accuracy')\n",
        "plt.xlabel('Epochs')\n",
        "plt.ylabel('Accuracy')\n",
        "plt.legend(loc='lower right')"
      ],
      "metadata": {
        "id": "OD9oQWKpps3x",
        "colab": {
          "base_uri": "https://localhost:8080/",
          "height": 441
        },
        "outputId": "f0702fd1-fe02-48e9-d0cf-a0a81437e145"
      },
      "execution_count": null,
      "outputs": [
        {
          "output_type": "stream",
          "name": "stdout",
          "text": [
            "dict_keys(['loss', 'binary_accuracy', 'val_loss', 'val_binary_accuracy'])\n"
          ]
        },
        {
          "output_type": "execute_result",
          "data": {
            "text/plain": [
              "<matplotlib.legend.Legend at 0x7f8bdf8c6450>"
            ]
          },
          "metadata": {},
          "execution_count": 57
        },
        {
          "output_type": "display_data",
          "data": {
            "text/plain": [
              "<Figure size 720x432 with 2 Axes>"
            ],
            "image/png": "[encoded data removed]"
          },
          "metadata": {
            "needs_background": "light"
          }
        }
      ]
    },
    {
      "cell_type": "markdown",
      "metadata": {
        "id": "40QxNSxkijKA"
      },
      "source": [
        "#**Evaluación**"
      ]
    },
    {
      "cell_type": "markdown",
      "metadata": {
        "id": "aa0zJ_znXIN8"
      },
      "source": [
        "###**Evaluación de Modelos con Corpus Propio**"
      ]
    },
    {
      "cell_type": "code",
      "execution_count": null,
      "metadata": {
        "id": "eE0QIkPtkGCp"
      },
      "outputs": [],
      "source": [
        "listas_cp=[[\"Random Forest\",accuracy_randomforest_cp],[\"Naive Bayes\",accuracy_nb_cp],[\"SVC\",accuracy_svc_cp],[\"Logistic Regression\",accuracy_logistic_cp],[\"XGBoost\",accuracy_xgb_cp],\n",
        "           [\"Neural Network\",accuracy_nn_cp]]\n",
        "df_listas_cp=pd.DataFrame(listas_cp,columns=[\"Modelos\",\"Métrica - Accuracy\"])\n",
        "df_listas_cp\n",
        "df_listas_cp.style.set_properties(**{'border': '1.3px solid black','text-align': 'center',\n",
        "                          'color': '#FFFFFF'})"
      ]
    },
    {
      "cell_type": "markdown",
      "metadata": {
        "id": "PSVgUgfkXOv1"
      },
      "source": [
        "###**Evaluación de Modelos con el Corpus Unido**"
      ]
    },
    {
      "cell_type": "code",
      "execution_count": null,
      "metadata": {
        "id": "Dmav0G7meje-"
      },
      "outputs": [],
      "source": [
        "listas=[[\"Random Forest\",accuracy_randomforest],[\"Naive Bayes\",accuracy_nb],[\"SVC\",accuracy_svc],[\"Logistic Regression\",accuracy_logistic],[\"XGBoost\",accuracy_xgb],\n",
        "         [\"Neural Network\",accuracy_nn]]\n",
        "df_listas=pd.DataFrame(listas,columns=[\"Modelos\",\"Métrica - Accuracy\"])\n",
        "df_listas\n",
        "df_listas.style.set_properties(**{'border': '1.3px solid black','text-align': 'center',\n",
        "                          'color': '#FFFFFF'})"
      ]
    },
    {
      "cell_type": "markdown",
      "metadata": {
        "id": "mxk5Fiwe6F2f"
      },
      "source": [
        "# **Pruebas**"
      ]
    },
    {
      "cell_type": "code",
      "execution_count": null,
      "metadata": {
        "id": "-0uBbLRDgQPr"
      },
      "outputs": [],
      "source": [
        "a=\"Estoy en vivo en el Show de @juanpisrules \\n\\nComparte con tus amigas y amigos, también pueden participar con el #PetroskyEnJuanpis \\n\\n¡Los y las quiero mucho!\\n\\nSeñal en vivo: https://t.co/gZpFV34NbZ\"\n",
        "print(remove_links(a))"
      ]
    },
    {
      "cell_type": "code",
      "execution_count": null,
      "metadata": {
        "id": "Zr1sJ8In3syg"
      },
      "outputs": [],
      "source": [
        "def detection_fake_news_(news):\n",
        "    news=text_preprocessing(news)\n",
        "    input_data = [news]\n",
        "    vectorized_input_data = tfidf_cp.transform(input_data)\n",
        "    prediction = best_model_svc_cp.predict(vectorized_input_data)\n",
        "    prediction_proba = best_model_svc_cp.predict_proba(vectorized_input_data)\n",
        "    print (prediction_proba)\n",
        "     \n",
        "    if prediction==0:\n",
        "      print (\"La noticia que ingreso es real con una probabilidad de:\",prediction_proba[0][0])\n",
        "    else:\n",
        "        print (\"La noticia que ingreso es falsa con una probabilidad de:\",prediction_proba[0][1])"
      ]
    },
    {
      "cell_type": "code",
      "execution_count": null,
      "metadata": {
        "id": "0vZiniMikuWy"
      },
      "outputs": [],
      "source": [
        "detection_fake_news_(\"En medio de uno de los momentos más difíciles para la Coalición Centro Esperanza, y justo cuando la Contraloría declaró reparado el daño patrimonial de $4,3 billones en el caso Hidroituango, el precandidato presidencial Sergio Fajardo habló con EL COLOMBIANO sobre ambos temas.\")"
      ]
    },
    {
      "cell_type": "markdown",
      "metadata": {
        "id": "1pt11ezAAzZi"
      },
      "source": [
        "# **Modelos para producción**"
      ]
    },
    {
      "cell_type": "markdown",
      "metadata": {
        "id": "eHTV0RW-6AS0"
      },
      "source": [
        "### Se guardan los modelos para su paso a producción"
      ]
    },
    {
      "cell_type": "code",
      "execution_count": null,
      "metadata": {
        "id": "2lwpDyVU3Cb8"
      },
      "outputs": [],
      "source": [
        "#create_model_production(\"RF\",clf)\n",
        "create_model_production(\"NB\",best_model_nb)\n",
        "create_model_production(\"SVC\",best_model_svc)\n",
        "create_model_production(\"LR\",best_model_logistic)\n",
        "create_model_production(\"Xgboost\",best_model_xgb)\n",
        "create_model_production(\"vectorizer\",tfidf)\n",
        "create_model_production(\"vectorizer_cp\",tfidf_cp)"
      ]
    }
  ],
  "metadata": {
    "colab": {
      "collapsed_sections": [
        "olt8kO7ey8wt"
      ],
      "name": "Proyecto de Grado - version 2.ipynb",
      "provenance": [],
      "toc_visible": true,
      "include_colab_link": true
    },
    "kernelspec": {
      "display_name": "Python 3",
      "name": "python3"
    },
    "language_info": {
      "name": "python"
    },
    "accelerator": "GPU"
  },
  "nbformat": 4,
  "nbformat_minor": 0
}